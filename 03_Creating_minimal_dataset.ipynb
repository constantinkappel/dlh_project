{
 "cells": [
  {
   "cell_type": "code",
   "execution_count": 1,
   "metadata": {},
   "outputs": [],
   "source": [
    "import numpy as np\n",
    "import pandas as pd\n",
    "from pathlib import Path\n",
    "import pickle\n",
    "import os\n",
    "from tqdm import tqdm"
   ]
  },
  {
   "cell_type": "code",
   "execution_count": 2,
   "metadata": {},
   "outputs": [
    {
     "name": "stdout",
     "output_type": "stream",
     "text": [
      "-rw-r--r-- 1 zwerg input   526358 Apr 15 23:46 /data/DescEmb/output/mlm/mimiciii/attention_mask_NV.npy\n",
      "-rw-r--r-- 1 zwerg input 89382128 Apr 15 23:46 /data/DescEmb/output/mlm/mimiciii/code_index_NV.npy\n",
      "-rw-r--r-- 1 zwerg input    58601 Apr 15 23:46 /data/DescEmb/output/mlm/mimiciii/code_index_NV_vocab.pkl\n",
      "-rw-r--r-- 1 zwerg input   526358 Apr 15 23:46 /data/DescEmb/output/mlm/mimiciii/input_ids_NV.npy\n",
      "-rw-r--r-- 1 zwerg input   526358 Apr 15 23:46 /data/DescEmb/output/mlm/mimiciii/token_type_ids_NV.npy\n"
     ]
    }
   ],
   "source": [
    "!ls -la /data/DescEmb/output/mlm/mimiciii/*NV*"
   ]
  },
  {
   "cell_type": "code",
   "execution_count": 3,
   "metadata": {},
   "outputs": [],
   "source": [
    "path = Path('/data/DescEmb/output/mlm/mimiciii/')\n",
    "out_path = Path('/data/DescEmb/output_mini/mlm/mimiciii/')\n",
    "out_path.mkdir(parents=True, exist_ok=True)"
   ]
  },
  {
   "cell_type": "code",
   "execution_count": 8,
   "metadata": {},
   "outputs": [],
   "source": [
    "with open(path/'code_index_NV_vocab.pkl', 'rb') as f:\n",
    "    code_index_vocab = pickle.load(f)"
   ]
  },
  {
   "cell_type": "code",
   "execution_count": 13,
   "metadata": {},
   "outputs": [
    {
     "name": "stdout",
     "output_type": "stream",
     "text": [
      "2536\n"
     ]
    },
    {
     "data": {
      "text/plain": [
       "dict"
      ]
     },
     "execution_count": 13,
     "metadata": {},
     "output_type": "execute_result"
    }
   ],
   "source": [
    "print(len(code_index_vocab))\n",
    "type(code_index_vocab)"
   ]
  },
  {
   "cell_type": "code",
   "execution_count": 16,
   "metadata": {},
   "outputs": [
    {
     "name": "stdout",
     "output_type": "stream",
     "text": [
      "18536\n"
     ]
    },
    {
     "data": {
      "text/plain": [
       "(18536, 150)"
      ]
     },
     "execution_count": 16,
     "metadata": {},
     "output_type": "execute_result"
    }
   ],
   "source": [
    "code_index_NV = np.load(path/'code_index_NV.npy')\n",
    "print(len(code_index_NV))\n",
    "code_index_NV.shape"
   ]
  },
  {
   "cell_type": "code",
   "execution_count": 18,
   "metadata": {},
   "outputs": [
    {
     "data": {
      "text/plain": [
       "array([[ 189, 1923, 1923,  189,  673, 1923,  189, 1923, 2330,  885, 1684,\n",
       "        1679, 1171,  493, 1923, 1251, 1251, 1545,  189, 1923, 1586,  502,\n",
       "        2260, 1633,  944,  493, 1171, 1679, 2330,  885, 1684, 1251, 1545,\n",
       "        1251, 1545, 1545, 1251, 1923,  189, 1545, 1251, 1923,  189,  189,\n",
       "        1923,  189, 1923, 1201, 1251, 1545, 1923,  493, 1171, 2330, 1684,\n",
       "           0,    0,    0,    0,    0,    0,    0,    0,    0,    0,    0,\n",
       "           0,    0,    0,    0,    0,    0,    0,    0,    0,    0,    0,\n",
       "           0,    0,    0,    0,    0,    0,    0,    0,    0,    0,    0,\n",
       "           0,    0,    0,    0,    0,    0,    0,    0,    0,    0,    0,\n",
       "           0,    0,    0,    0,    0,    0,    0,    0,    0,    0,    0,\n",
       "           0,    0,    0,    0,    0,    0,    0,    0,    0,    0,    0,\n",
       "           0,    0,    0,    0,    0,    0,    0,    0,    0,    0,    0,\n",
       "           0,    0,    0,    0,    0,    0,    0,    0,    0,    0,    0,\n",
       "           0,    0,    0,    0,    0,    0,    0],\n",
       "       [1684, 1679, 1171, 1529,  493,  198, 1285, 2330, 1526, 2236,  844,\n",
       "        1556, 2206,  944, 2260,  408, 1633,  391, 1737,  391, 1737,  939,\n",
       "        1923,  377, 2035, 1699,  583, 1815, 2442,  823,  391,  853,  725,\n",
       "         853,  391,  853,  391,  725,  853,  391,  853,  391, 1923,  391,\n",
       "         853,  391,  853, 1923, 1923,  187,  391, 2167,   66,  672,  823,\n",
       "         525,  751, 2306,  551,  594,  344,    4, 2071, 1452, 1128, 2005,\n",
       "        1172,  391, 2489,  391,  725,  461, 1172,  688, 1492,  391,  187,\n",
       "         944, 1633, 2260,  502,  187,  391,    0,    0,    0,    0,    0,\n",
       "           0,    0,    0,    0,    0,    0,    0,    0,    0,    0,    0,\n",
       "           0,    0,    0,    0,    0,    0,    0,    0,    0,    0,    0,\n",
       "           0,    0,    0,    0,    0,    0,    0,    0,    0,    0,    0,\n",
       "           0,    0,    0,    0,    0,    0,    0,    0,    0,    0,    0,\n",
       "           0,    0,    0,    0,    0,    0,    0,    0,    0,    0,    0,\n",
       "           0,    0,    0,    0,    0,    0,    0]])"
      ]
     },
     "execution_count": 18,
     "metadata": {},
     "output_type": "execute_result"
    }
   ],
   "source": [
    "code_index_NV[:2]"
   ]
  },
  {
   "cell_type": "markdown",
   "metadata": {},
   "source": [
    "Process all .pkl files"
   ]
  },
  {
   "cell_type": "code",
   "execution_count": 4,
   "metadata": {},
   "outputs": [
    {
     "name": "stderr",
     "output_type": "stream",
     "text": [
      "  0%|          | 0/4 [00:00<?, ?it/s]"
     ]
    },
    {
     "name": "stdout",
     "output_type": "stream",
     "text": [
      "processing file: code_index_NV.npy\n",
      "processing file: code_index_VA.npy\n",
      "processing file: code_index_DSVA.npy\n"
     ]
    },
    {
     "name": "stderr",
     "output_type": "stream",
     "text": [
      " 25%|██▌       | 1/4 [00:00<00:00,  3.68it/s]"
     ]
    },
    {
     "name": "stdout",
     "output_type": "stream",
     "text": [
      "processing file: code_index_DSVA_DPE.npy\n",
      "File not found: code_index_DSVA_DPE.npy\n",
      "processing file: code_index_VC.npy\n",
      "processing file: attention_mask_NV.npy\n"
     ]
    },
    {
     "name": "stderr",
     "output_type": "stream",
     "text": [
      " 50%|█████     | 2/4 [00:02<00:03,  1.60s/it]"
     ]
    },
    {
     "name": "stdout",
     "output_type": "stream",
     "text": [
      "processing file: attention_mask_VA.npy\n",
      "processing file: attention_mask_DSVA.npy\n",
      "processing file: attention_mask_DSVA_DPE.npy\n",
      "processing file: attention_mask_VC.npy\n",
      "processing file: input_ids_NV.npy\n",
      "processing file: input_ids_VA.npy\n"
     ]
    },
    {
     "name": "stderr",
     "output_type": "stream",
     "text": [
      " 75%|███████▌  | 3/4 [00:02<00:00,  1.05it/s]"
     ]
    },
    {
     "name": "stdout",
     "output_type": "stream",
     "text": [
      "processing file: input_ids_DSVA.npy\n",
      "processing file: input_ids_DSVA_DPE.npy\n",
      "processing file: input_ids_VC.npy\n",
      "processing file: token_type_ids_NV.npy\n",
      "processing file: token_type_ids_VA.npy\n",
      "processing file: token_type_ids_DSVA.npy\n"
     ]
    },
    {
     "name": "stderr",
     "output_type": "stream",
     "text": [
      "100%|██████████| 4/4 [00:03<00:00,  1.28it/s]"
     ]
    },
    {
     "name": "stdout",
     "output_type": "stream",
     "text": [
      "processing file: token_type_ids_DSVA_DPE.npy\n",
      "processing file: token_type_ids_VC.npy\n"
     ]
    },
    {
     "name": "stderr",
     "output_type": "stream",
     "text": [
      "\n"
     ]
    }
   ],
   "source": [
    "name_list = ['code_index_', 'attention_mask_', 'input_ids_', 'token_type_ids_']\n",
    "valemb_list = ['NV', 'VA', 'DSVA', 'DSVA_DPE', 'VC']\n",
    "percentage = 100# 1% of the data\n",
    "np.random.seed(42)\n",
    "for name in tqdm(name_list):\n",
    "    for valemb in valemb_list:\n",
    "        try:\n",
    "            fn = name+valemb+'.npy'\n",
    "            print(f\"processing file: {fn}\")\n",
    "            data = np.load(path/fn, allow_pickle=True)\n",
    "            shape = data.shape\n",
    "            rand_idx = np.random.randint(0, shape[0], shape[0]//percentage)\n",
    "            np.save(out_path/fn, data[rand_idx])\n",
    "        except FileNotFoundError as e:\n",
    "            print(f\"File not found: {fn}\")\n",
    "            continue"
   ]
  },
  {
   "cell_type": "code",
   "execution_count": null,
   "metadata": {},
   "outputs": [],
   "source": []
  }
 ],
 "metadata": {
  "kernelspec": {
   "display_name": ".venv",
   "language": "python",
   "name": "python3"
  },
  "language_info": {
   "codemirror_mode": {
    "name": "ipython",
    "version": 3
   },
   "file_extension": ".py",
   "mimetype": "text/x-python",
   "name": "python",
   "nbconvert_exporter": "python",
   "pygments_lexer": "ipython3",
   "version": "3.12.2"
  }
 },
 "nbformat": 4,
 "nbformat_minor": 2
}
