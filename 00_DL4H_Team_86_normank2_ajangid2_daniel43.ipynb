{
 "cells": [
  {
   "cell_type": "markdown",
   "metadata": {
    "id": "MQ0sNuMePBXx"
   },
   "source": [
    "# Introduction\n",
    "\n",
    "\n",
    "Our paper is *\"Unifying Heterogeneous Electronic Health Records Systems via Text-Based Code Embedding\"* by [**Hur et al.** (2022)](#references). All paper references are provided at the bottom of this notebook.\n",
    "\n",
    "While EHR (Electronic Health Records) provide an attractive data source to do research on exposures\n",
    "and disease, there are many heterogenous medical code formats used by different healthcare providers.\n",
    "Thus, clinical studies using EHRs are difficult to scale up due to data incompatibilities. The techni-\n",
    "cal hurdle is that previous systems learned hidden representations (latent embeddings) for each code\n",
    "system which projected the same medical concept with different encodings into different, incompatible\n",
    "semantic spaces. The paper by [Hur et al (2022)](#references)  learns from the unstructured textual descriptions instead of the medcodes. To this end the authors propose a novel method to unify heterogeneous EHR systems via a novel method to learn text embeddings of medical codes from their textual descriptions, which they call description embedding ([DescEmb](#model)). \n",
    "themselves, a strategy which the authors termed description embedding (DescEmb). Using DescEmb\n",
    "the authors were able to pool differently structured EHRs from two [datasets](#data), namely MIMIC-III and eICU, into one larger pooled\n",
    "dataset and achieved higher accuracy. The authors then tested the performance of the DescEmb on [five tasks](#prediction_tasks): mortality prediction, length of stay prediction, readmission prediction and diagnosis. \n",
    "Hur et al. were to our knowledge the first to attempt a unification of different EHR systems via text-based code embeddings. The authors achieved state-of-the-art performance on all five tasks, which is a significant contribution to the field of EHR research."
   ]
  },
  {
   "cell_type": "markdown",
   "metadata": {
    "id": "uygL9tTPSVHB"
   },
   "source": [
    "# Scope of Reproducibility:\n",
    "\n",
    "We plan to focus on hypotheses 1 - 3 mainly. Hypothesis 4 is addressed by comparing the results of the proposed method with the state-of-the-art methods (see Results section). Hypothesis 5 is our own hypothesis which we will test by using a BERT model pre-trained on a domain-specific dataset. We view this as an extension of the original paper which is optional, thus it will not be included in the draft. \n",
    "\n",
    "\n",
    "1.   Hypothesis 1: *DescEmb* outperforms *CodeEmb*\n",
    "2.   Hypothesis 2: Two EHR datasets with different structure can be used interchangeably with the proposed method.\n",
    "3.   Hypothesis 3: Differently structured EHR datasets can be pooled together to improve the performance of the model. \n",
    "4.   Hypothesis 4: *DescEmb* has a competitive or superior performance compared to the state-of-the-art methods.\n",
    "5.   Hypothesis 5 (ours): Using a BERT model which was pre-trained in a strictly domain-specific manner can improve the performance of the model further (not shown by the authors). \n"
   ]
  },
  {
   "cell_type": "markdown",
   "metadata": {},
   "source": [
    "# GitHub repository:"
   ]
  },
  {
   "cell_type": "markdown",
   "metadata": {},
   "source": [
    "If you entered through a PDF, you can find our GitHub repository [here](https://github.com/constantinkappel/dlh_project). "
   ]
  },
  {
   "cell_type": "markdown",
   "metadata": {
    "id": "xWAHJ_1CdtaA"
   },
   "source": [
    "# Methodology\n",
    "\n",
    "## Environment Setup\n",
    "\n",
    "We provide a [script](setup.sh) to create a virtual environment and install necessary packages.\n",
    "\n",
    "```bash\n",
    "./setup.sh\n",
    "```\n"
   ]
  },
  {
   "cell_type": "code",
   "execution_count": 1,
   "metadata": {},
   "outputs": [
    {
     "name": "stdout",
     "output_type": "stream",
     "text": [
      "Python 3.12.2\n"
     ]
    }
   ],
   "source": [
    "# Python version\n",
    "!python --version"
   ]
  },
  {
   "cell_type": "markdown",
   "metadata": {},
   "source": [
    "## Imports"
   ]
  },
  {
   "cell_type": "code",
   "execution_count": 4,
   "metadata": {},
   "outputs": [],
   "source": [
    "from pathlib import Path\n",
    "import numpy as np\n",
    "import pandas as pd"
   ]
  },
  {
   "cell_type": "markdown",
   "metadata": {},
   "source": [
    "\n",
    "\n",
    "\n",
    "## Prediction tasks studied in the paper <a id=\"prediction_tasks\"></a>\n",
    "| Task Number | Task identifier | Task Description | Classification type |\n",
    "|-------------|---------|---------|--------------|\n",
    "| Task 1 | Dx | Predicting the diagnosis of a patient given the clinical notes. | Multi-label |\n",
    "| Task 2 | Mort | Predicting the mortality of a patient given the clinical notes and the treatment codes. | Binary |\n",
    "| Task 3 | LOS>3 | Predicting whether the length of stay of a patient is greater than 3 days given the clinical notes and the treatment codes. | Binary |\n",
    "| Task 4 | LOS>7 | Predicting whether the length of stay of a patient is greater than 7 days given the clinical notes and the treatment codes. | Binary |\n",
    "| Task 5 | ReAdm | Predicting whether a patient will be readmitted within 30 days given the clinical notes and the treatment codes. | Binary |\n",
    "\n",
    "For task 1 the highest level representation of ICD-9-CM is used, in total 18 representations. MIMIC-III already uses ICD-9, while eICU uses ICD-10. The authors map ICD-10 to ICD-9 using the Clinical Classificatons Software (CCS). \n",
    "\n",
    "## Abbreviations used in the paper\n",
    "\n",
    "| Abbreviation | Description |\n",
    "|--------------|-------------|\n",
    "| $p^i$ | The $i$-th patient |\n",
    "| $c_i$ | The $i$-th medical event (e.g. diagnoses, prescriptions) |\n",
    "| $\\mathcal{C}$ | The set of all medical events |\n",
    "| $t_i$ | The $i$-th time stamp |\n",
    "| $w_{i,j}$ | The $j$-th word in the $i$-th medical event |\n",
    "| $\\mathcal{W}$ | The set of all words, i.e. vocabulary of description |\n",
    "| $d^i$ | The $i$-th text description of diagnosis of the $i$-th patient |\n",
    "| $E_{\\Psi}$ | The embedding layer of the medical events used in *CodeEmb*  |\n",
    "| $\\boldsymbol{c}_i$ | Embedded representation of the $i$-th medical event |\n",
    "| $B_{\\Phi}$ | The embedding layer of the text descriptions used in *DescEmb* |\n",
    "| $\\boldsymbol{z}_i$ | Embedded representation of the $i$-th text description |\n"
   ]
  },
  {
   "cell_type": "markdown",
   "metadata": {},
   "source": [
    "# Data <a id=\"data\"></a>\n"
   ]
  },
  {
   "cell_type": "markdown",
   "metadata": {},
   "source": [
    "We downloaded two datasets, MIMIC-III v1.4 from [PhysioNet](https://physionet.org/content/mimiciii/1.4/) and eICU v2.0 from [MIT Lab](https://eicu-crd.mit.edu/) and downloaded it via [PhysioNet](https://physionet.org/content/eicu-crd/2.0/) using `wget`. The datasets are stored in the following paths in our Google Drive:"
   ]
  },
  {
   "cell_type": "code",
   "execution_count": 5,
   "metadata": {},
   "outputs": [],
   "source": [
    "storage_dir = Path(\"/data/DescEmb/output_predict\")\n",
    "mimic_path = storage_dir/\"mimic\"\n",
    "eicu_path = storage_dir/\"eicu\"\n",
    "pooled_path = storage_dir/\"pooled\""
   ]
  },
  {
   "cell_type": "markdown",
   "metadata": {},
   "source": [
    "## Data description"
   ]
  },
  {
   "cell_type": "markdown",
   "metadata": {},
   "source": [
    "eICU consists of 200,859 patients, 1,139,695 admissions, and 2,839,547 patient unit stays. It is organized in three levels:\n",
    "\n",
    "![](assets/eICU_Fig1.png)\n",
    "\n",
    "A comprehensive description of the dataset can be found in the paper by [Pollard et al](https://www.nature.com/articles/sdata2018178).\n",
    "\n",
    "MIMIC-III consists of 46,520 patients, 58,976 admissions, and 7,875,529 clinical notes. An overview of the dataset:\n",
    "\n",
    "![](assets/MIMIC_Fig1.png)\n",
    "\n",
    "A comprehensive description of the dataset can be found in the paper by [Johnson et al](https://www.nature.com/articles/sdata201635)."
   ]
  },
  {
   "cell_type": "markdown",
   "metadata": {},
   "source": [
    "## Preprocessing"
   ]
  },
  {
   "cell_type": "markdown",
   "metadata": {},
   "source": [
    "We preprocessed the data using the code provided by the authors in their [GitHub repository](https://github.com/hoon9405/DescEmb). We ran\n",
    "```bash\n",
    "INPUT_PATH=/home/data\n",
    "OUTPUT_PATH=/home/data/output\n",
    "DX_PATH=$INPUT_PATH/ccs_multi_dx_tool_2015.csv\n",
    "\n",
    "python ../preprocess/preprocess_main.py \\\n",
    "    --src_data mimiciii \\\n",
    "    --dataset_path $INPUT_PATH/mimic \\\n",
    "    --ccs_dx_tool_path $DX_PATH \\\n",
    "    --dest_path $OUTPUT_PATH ;\n",
    "```\n",
    "In total this was run six times: For three datasets, i.e. `mimiciii`, `eicu` or `pooled` and `$data_type` was either `predict` or `pretrain` - see our modified [`preprocess_run.sh`](project_code/00_preprocess/preprocess_run.sh) for all six runs. This script needs to be run from within the author's DescEmb repository, because of all the dependencies which `main.py` imports. \n",
    "Preprocessing was done on a cloud node with 128 GB of RAM, 32 cores, RTX A6000 GPU and 180 GB of storage."
   ]
  },
  {
   "cell_type": "markdown",
   "metadata": {},
   "source": [
    "Both, data cleaning and cohort construction are done by running the same script. Below we describe what is happening in those steps. "
   ]
  },
  {
   "cell_type": "markdown",
   "metadata": {},
   "source": [
    "The datasets are constructed such that three sources of information are available:\n",
    "* Laboratory results\n",
    "* Medication\n",
    "* Infusion\n",
    "\n",
    "Each of these sources is available in two different datasets: MIMIC-III and eICU. The authors use the following files from the MIMIC-III and eICU datasets to construct the datasets for the tasks:\n",
    "\n",
    "| Item | Source | Filnename |\n",
    "| --- | --- | --- |\n",
    "| Laboratory results | MIMIC-III | labevents.csv |\n",
    "| Medication | MIMIC-III | prescriptions.csv |\n",
    "| Infusion | MIMIC-III | inputevents_cv.csv, inputevents_mv.csv -> Merged together |\n",
    "| Laboratory results | eICU | lab.csv |\n",
    "| Medication | eICU | medication.csv |\n",
    "| Infusion | eICU | infusionDrug.csv |\n"
   ]
  },
  {
   "cell_type": "markdown",
   "metadata": {},
   "source": [
    "### Data Cleaning\n",
    "\n",
    "On merging inputevents_cv.csv and inputevents_mv.csv, the authors found that the two datasets have different structures. They used the following steps to clean the data:\n",
    "* 41 patients were removed which conflicted regarding code systems.\n",
    "* For patients with multiple ICU stays, the authors used the first ICU stay for the analysis.\n",
    "* For patients with multiple ICU stays, those with fewer than 5 observed codes were removed.\n",
    "* Restrict sample to first 150 codes during first 12 hours of ICU stay.\n",
    "\n",
    "### Cohort Construction\n",
    "\n",
    "The authors used the following steps to construct the cohorts:\n",
    "1. Cohort: MICU patients whose first care unit was also the last care unit and of type ICU. \n",
    "2. Cohort: Patients with multiple ICU stays above age 18\n",
    "3. Cohort: Patients with multiple ICU stays who remained in ICU for > 12 hours\n",
    "\n",
    "\n",
    "\n"
   ]
  },
  {
   "cell_type": "markdown",
   "metadata": {},
   "source": [
    "## Datasets and Dataloaders"
   ]
  },
  {
   "cell_type": "markdown",
   "metadata": {},
   "source": [
    "In the proposal we intended to leverage `pyhealth` to load the data. However, we found that the authors' code for preprocessing may not be compatible with `pyhealth`. We will use the authors' code to load the data. If we find a path forward for replacing the authors' dataloaders with `pyhealth` we will do so."
   ]
  },
  {
   "cell_type": "markdown",
   "metadata": {},
   "source": [
    "Four dataset classes available in `datasets/dataset.py`, all of which inherit from `BaseDataset`, which in turn inherits from `torch.utils.data.Dataset`. The four classes are:\n",
    "\n",
    "The base class `BaseDataset` provides the following functionality:\n",
    "* Tokenization of the descriptions with `emilyalsentzer/Bio_ClinicalBERT` via huggingface `transformers`\n",
    "* Splitting in to folds `train`, `valid` and `test` and return their respective indeces\n",
    "* A method mask_tokens for preparing masked tokens inputs/labels for masked language modeling (MLM). This method samples tokens in each sequence for MLM training with probabilities for masking, replacing with random tokens, or keeping unchanged.\n",
    "\n",
    "| Class | Description | Trainer class | `embed_model` |\n",
    "| --- | --- | --- | --- |\n",
    "| `CodeDataset` | Dataset for the code embeddings | `Trainer` | `codeemb` |\n",
    "| `TokenizedDataset` | Dataset for the tokenized descriptions | `Trainer` | `descemb` |\n",
    "| `MLMTokenizedDataset` | Dataset for the masked language model tokenized descriptions | `Trainer` | `mlm` |\n",
    "| `Word2VecDataset` | Dataset for the word2vec tokenized descriptions | `Word2VecTrainer` | `w2v` |\n",
    "\n",
    "`CodeDataset` returns stacked tensors comprising input ID's, sequence length, value and label. \n",
    "\n",
    "`TokenizedDataset` stacks input IDs, token type IDs, attention masks, sequential lengths, values, and labels into tensors and organizes them into a dictionary, ready for model input.\n",
    "\n",
    "`MLMTokenizedDataset` returns input IDs, token type IDs, attention masks, MLM labels for masked language model training. \n",
    "\n",
    "`Word2VecDataset` returns an index dictionary as well as positive and negative word pairs to train the word2vec model usin a skip-gram approach.\n",
    "\n",
    "The datasets are utilized depending on which embedding model is being trained. This decision is made by the user as a command-line argument to `main.py`. There are two trainer classes, one for word2vec and one for all other cases. The table above shows which dataset is used for which embedding model."
   ]
  },
  {
   "cell_type": "markdown",
   "metadata": {},
   "source": [
    "## Exploratory Data Analysis\n",
    "\n",
    "1. Load the data\n",
    "3. Check the head of the data\n",
    "7. Check the missing values in the data\n",
    "9. Check the value counts in the data\n",
    "8. Check the unique values for categorical features in the data\n",
    "10. Check demographics of the patients\n",
    "10. Check the correlation between the features\n",
    "11. Check the distribution of the features\n",
    "12. Check the outliers in the data\n"
   ]
  },
  {
   "cell_type": "markdown",
   "metadata": {},
   "source": [
    "##### Load the data"
   ]
  },
  {
   "cell_type": "code",
   "execution_count": null,
   "metadata": {},
   "outputs": [],
   "source": [
    "mimic_cohort = pd.read_pickle(storage_dir/\"mimiciii_cohort.pkl\")\n",
    "eicu_cohort = pd.read_pickle(storage_dir/\"eicu_cohort.pkl\")\n"
   ]
  },
  {
   "cell_type": "markdown",
   "metadata": {},
   "source": [
    "##### Check the head of the data"
   ]
  },
  {
   "cell_type": "code",
   "execution_count": 15,
   "metadata": {},
   "outputs": [
    {
     "data": {
      "text/html": [
       "<div>\n",
       "<style scoped>\n",
       "    .dataframe tbody tr th:only-of-type {\n",
       "        vertical-align: middle;\n",
       "    }\n",
       "\n",
       "    .dataframe tbody tr th {\n",
       "        vertical-align: top;\n",
       "    }\n",
       "\n",
       "    .dataframe thead th {\n",
       "        text-align: right;\n",
       "    }\n",
       "</style>\n",
       "<table border=\"1\" class=\"dataframe\">\n",
       "  <thead>\n",
       "    <tr style=\"text-align: right;\">\n",
       "      <th></th>\n",
       "      <th>SUBJECT_ID</th>\n",
       "      <th>HADM_ID</th>\n",
       "      <th>ICUSTAY_ID</th>\n",
       "      <th>DBSOURCE</th>\n",
       "      <th>FIRST_CAREUNIT</th>\n",
       "      <th>LAST_CAREUNIT</th>\n",
       "      <th>FIRST_WARDID</th>\n",
       "      <th>LAST_WARDID</th>\n",
       "      <th>INTIME</th>\n",
       "      <th>OUTTIME</th>\n",
       "      <th>...</th>\n",
       "      <th>EXPIRE_FLAG</th>\n",
       "      <th>age</th>\n",
       "      <th>readmission</th>\n",
       "      <th>mortality</th>\n",
       "      <th>los_3day</th>\n",
       "      <th>los_7day</th>\n",
       "      <th>ICD9_CODE</th>\n",
       "      <th>12h_obs</th>\n",
       "      <th>24h_obs</th>\n",
       "      <th>diagnosis</th>\n",
       "    </tr>\n",
       "  </thead>\n",
       "  <tbody>\n",
       "    <tr>\n",
       "      <th>0</th>\n",
       "      <td>58526</td>\n",
       "      <td>100001</td>\n",
       "      <td>275225</td>\n",
       "      <td>metavision</td>\n",
       "      <td>MICU</td>\n",
       "      <td>MICU</td>\n",
       "      <td>52</td>\n",
       "      <td>52</td>\n",
       "      <td>2117-09-11 11:47:35</td>\n",
       "      <td>2117-09-15 17:57:14</td>\n",
       "      <td>...</td>\n",
       "      <td>0</td>\n",
       "      <td>35</td>\n",
       "      <td>0</td>\n",
       "      <td>0</td>\n",
       "      <td>1</td>\n",
       "      <td>0</td>\n",
       "      <td>[25013, 3371, 5849, 5780, V5867, 25063, 5363, ...</td>\n",
       "      <td>2117-09-11 23:47:35</td>\n",
       "      <td>2117-09-12 11:47:35</td>\n",
       "      <td>[10, 6, 3, 7, 12, 17, 13, 9]</td>\n",
       "    </tr>\n",
       "    <tr>\n",
       "      <th>1</th>\n",
       "      <td>54610</td>\n",
       "      <td>100003</td>\n",
       "      <td>209281</td>\n",
       "      <td>metavision</td>\n",
       "      <td>MICU</td>\n",
       "      <td>MICU</td>\n",
       "      <td>50</td>\n",
       "      <td>50</td>\n",
       "      <td>2150-04-17 15:35:42</td>\n",
       "      <td>2150-04-19 14:12:52</td>\n",
       "      <td>...</td>\n",
       "      <td>1</td>\n",
       "      <td>59</td>\n",
       "      <td>0</td>\n",
       "      <td>0</td>\n",
       "      <td>0</td>\n",
       "      <td>0</td>\n",
       "      <td>[53100, 2851, 07054, 5715, 45621, 53789, 4019,...</td>\n",
       "      <td>2150-04-18 03:35:42</td>\n",
       "      <td>2150-04-18 15:35:42</td>\n",
       "      <td>[18, 7, 9, 1, 4]</td>\n",
       "    </tr>\n",
       "    <tr>\n",
       "      <th>2</th>\n",
       "      <td>9895</td>\n",
       "      <td>100006</td>\n",
       "      <td>291788</td>\n",
       "      <td>carevue</td>\n",
       "      <td>MICU</td>\n",
       "      <td>MICU</td>\n",
       "      <td>15</td>\n",
       "      <td>15</td>\n",
       "      <td>2108-04-06 15:50:15</td>\n",
       "      <td>2108-04-11 15:18:03</td>\n",
       "      <td>...</td>\n",
       "      <td>1</td>\n",
       "      <td>48</td>\n",
       "      <td>0</td>\n",
       "      <td>0</td>\n",
       "      <td>1</td>\n",
       "      <td>0</td>\n",
       "      <td>[49320, 51881, 486, 20300, 2761, 7850, 3090, V...</td>\n",
       "      <td>2108-04-07 03:50:15</td>\n",
       "      <td>2108-04-07 15:50:15</td>\n",
       "      <td>[3, 2, 7, 5, 8]</td>\n",
       "    </tr>\n",
       "  </tbody>\n",
       "</table>\n",
       "<p>3 rows × 26 columns</p>\n",
       "</div>"
      ],
      "text/plain": [
       "   SUBJECT_ID  HADM_ID  ICUSTAY_ID    DBSOURCE FIRST_CAREUNIT LAST_CAREUNIT  \\\n",
       "0       58526   100001      275225  metavision           MICU          MICU   \n",
       "1       54610   100003      209281  metavision           MICU          MICU   \n",
       "2        9895   100006      291788     carevue           MICU          MICU   \n",
       "\n",
       "   FIRST_WARDID  LAST_WARDID              INTIME             OUTTIME  ...  \\\n",
       "0            52           52 2117-09-11 11:47:35 2117-09-15 17:57:14  ...   \n",
       "1            50           50 2150-04-17 15:35:42 2150-04-19 14:12:52  ...   \n",
       "2            15           15 2108-04-06 15:50:15 2108-04-11 15:18:03  ...   \n",
       "\n",
       "   EXPIRE_FLAG age readmission mortality los_3day los_7day  \\\n",
       "0            0  35           0         0        1        0   \n",
       "1            1  59           0         0        0        0   \n",
       "2            1  48           0         0        1        0   \n",
       "\n",
       "                                           ICD9_CODE             12h_obs  \\\n",
       "0  [25013, 3371, 5849, 5780, V5867, 25063, 5363, ... 2117-09-11 23:47:35   \n",
       "1  [53100, 2851, 07054, 5715, 45621, 53789, 4019,... 2150-04-18 03:35:42   \n",
       "2  [49320, 51881, 486, 20300, 2761, 7850, 3090, V... 2108-04-07 03:50:15   \n",
       "\n",
       "              24h_obs                     diagnosis  \n",
       "0 2117-09-12 11:47:35  [10, 6, 3, 7, 12, 17, 13, 9]  \n",
       "1 2150-04-18 15:35:42              [18, 7, 9, 1, 4]  \n",
       "2 2108-04-07 15:50:15               [3, 2, 7, 5, 8]  \n",
       "\n",
       "[3 rows x 26 columns]"
      ]
     },
     "execution_count": 15,
     "metadata": {},
     "output_type": "execute_result"
    }
   ],
   "source": [
    "mimic_cohort.head(3)"
   ]
  },
  {
   "cell_type": "code",
   "execution_count": 16,
   "metadata": {},
   "outputs": [
    {
     "data": {
      "text/html": [
       "<div>\n",
       "<style scoped>\n",
       "    .dataframe tbody tr th:only-of-type {\n",
       "        vertical-align: middle;\n",
       "    }\n",
       "\n",
       "    .dataframe tbody tr th {\n",
       "        vertical-align: top;\n",
       "    }\n",
       "\n",
       "    .dataframe thead th {\n",
       "        text-align: right;\n",
       "    }\n",
       "</style>\n",
       "<table border=\"1\" class=\"dataframe\">\n",
       "  <thead>\n",
       "    <tr style=\"text-align: right;\">\n",
       "      <th></th>\n",
       "      <th>patientunitstayid</th>\n",
       "      <th>patienthealthsystemstayid</th>\n",
       "      <th>gender</th>\n",
       "      <th>age</th>\n",
       "      <th>ethnicity</th>\n",
       "      <th>hospitalid</th>\n",
       "      <th>wardid</th>\n",
       "      <th>apacheadmissiondx</th>\n",
       "      <th>admissionheight</th>\n",
       "      <th>hospitaladmittime24</th>\n",
       "      <th>...</th>\n",
       "      <th>unitdischargelocation</th>\n",
       "      <th>unitdischargestatus</th>\n",
       "      <th>uniquepid</th>\n",
       "      <th>readmission</th>\n",
       "      <th>mortality</th>\n",
       "      <th>losday</th>\n",
       "      <th>los_3day</th>\n",
       "      <th>los_7day</th>\n",
       "      <th>diagnosisstring</th>\n",
       "      <th>diagnosis</th>\n",
       "    </tr>\n",
       "  </thead>\n",
       "  <tbody>\n",
       "    <tr>\n",
       "      <th>0</th>\n",
       "      <td>141392</td>\n",
       "      <td>129109</td>\n",
       "      <td>Female</td>\n",
       "      <td>78</td>\n",
       "      <td>Caucasian</td>\n",
       "      <td>73</td>\n",
       "      <td>97</td>\n",
       "      <td>Sepsis, renal/UTI (including bladder)</td>\n",
       "      <td>160.0</td>\n",
       "      <td>08:32:00</td>\n",
       "      <td>...</td>\n",
       "      <td>Floor</td>\n",
       "      <td>Alive</td>\n",
       "      <td>002-49989</td>\n",
       "      <td>0</td>\n",
       "      <td>0</td>\n",
       "      <td>0.667361</td>\n",
       "      <td>0</td>\n",
       "      <td>0</td>\n",
       "      <td>[endocrine|glucose metabolism|diabetes mellitu...</td>\n",
       "      <td>[1, 3, 7]</td>\n",
       "    </tr>\n",
       "    <tr>\n",
       "      <th>1</th>\n",
       "      <td>141462</td>\n",
       "      <td>129166</td>\n",
       "      <td>Male</td>\n",
       "      <td>80</td>\n",
       "      <td>Caucasian</td>\n",
       "      <td>73</td>\n",
       "      <td>97</td>\n",
       "      <td>Sepsis, pulmonary</td>\n",
       "      <td>170.2</td>\n",
       "      <td>05:27:00</td>\n",
       "      <td>...</td>\n",
       "      <td>Floor</td>\n",
       "      <td>Alive</td>\n",
       "      <td>002-24032</td>\n",
       "      <td>0</td>\n",
       "      <td>0</td>\n",
       "      <td>3.609722</td>\n",
       "      <td>1</td>\n",
       "      <td>0</td>\n",
       "      <td>[endocrine|glucose metabolism|diabetes mellitu...</td>\n",
       "      <td>[1, 3, 8]</td>\n",
       "    </tr>\n",
       "    <tr>\n",
       "      <th>2</th>\n",
       "      <td>141584</td>\n",
       "      <td>129260</td>\n",
       "      <td>Male</td>\n",
       "      <td>63</td>\n",
       "      <td>Caucasian</td>\n",
       "      <td>73</td>\n",
       "      <td>97</td>\n",
       "      <td>Emphysema/bronchitis</td>\n",
       "      <td>185.4</td>\n",
       "      <td>01:10:00</td>\n",
       "      <td>...</td>\n",
       "      <td>Floor</td>\n",
       "      <td>Alive</td>\n",
       "      <td>002-17958</td>\n",
       "      <td>1</td>\n",
       "      <td>0</td>\n",
       "      <td>2.934028</td>\n",
       "      <td>0</td>\n",
       "      <td>0</td>\n",
       "      <td>[endocrine|thyroid|hypothyroidism, pulmonary|d...</td>\n",
       "      <td>[3, 8, 18]</td>\n",
       "    </tr>\n",
       "  </tbody>\n",
       "</table>\n",
       "<p>3 rows × 36 columns</p>\n",
       "</div>"
      ],
      "text/plain": [
       "   patientunitstayid  patienthealthsystemstayid  gender age  ethnicity  \\\n",
       "0             141392                     129109  Female  78  Caucasian   \n",
       "1             141462                     129166    Male  80  Caucasian   \n",
       "2             141584                     129260    Male  63  Caucasian   \n",
       "\n",
       "   hospitalid  wardid                      apacheadmissiondx  admissionheight  \\\n",
       "0          73      97  Sepsis, renal/UTI (including bladder)            160.0   \n",
       "1          73      97                      Sepsis, pulmonary            170.2   \n",
       "2          73      97                   Emphysema/bronchitis            185.4   \n",
       "\n",
       "  hospitaladmittime24  ...  unitdischargelocation unitdischargestatus  \\\n",
       "0            08:32:00  ...                  Floor               Alive   \n",
       "1            05:27:00  ...                  Floor               Alive   \n",
       "2            01:10:00  ...                  Floor               Alive   \n",
       "\n",
       "   uniquepid readmission  mortality    losday los_3day los_7day  \\\n",
       "0  002-49989           0          0  0.667361        0        0   \n",
       "1  002-24032           0          0  3.609722        1        0   \n",
       "2  002-17958           1          0  2.934028        0        0   \n",
       "\n",
       "                                     diagnosisstring   diagnosis  \n",
       "0  [endocrine|glucose metabolism|diabetes mellitu...   [1, 3, 7]  \n",
       "1  [endocrine|glucose metabolism|diabetes mellitu...   [1, 3, 8]  \n",
       "2  [endocrine|thyroid|hypothyroidism, pulmonary|d...  [3, 8, 18]  \n",
       "\n",
       "[3 rows x 36 columns]"
      ]
     },
     "execution_count": 16,
     "metadata": {},
     "output_type": "execute_result"
    }
   ],
   "source": [
    "eicu_cohort.head(3)"
   ]
  },
  {
   "cell_type": "markdown",
   "metadata": {},
   "source": [
    "##### Check the missing values in the data"
   ]
  },
  {
   "cell_type": "code",
   "execution_count": 17,
   "metadata": {},
   "outputs": [
    {
     "name": "stdout",
     "output_type": "stream",
     "text": [
      "MIMIC-III missing values: SUBJECT_ID            0\n",
      "HADM_ID               0\n",
      "ICUSTAY_ID            0\n",
      "DBSOURCE              0\n",
      "FIRST_CAREUNIT        0\n",
      "LAST_CAREUNIT         0\n",
      "FIRST_WARDID          0\n",
      "LAST_WARDID           0\n",
      "INTIME                0\n",
      "OUTTIME               0\n",
      "LOS                   0\n",
      "GENDER                0\n",
      "DOB                   0\n",
      "DOD                8778\n",
      "DOD_HOSP          11884\n",
      "DOD_SSN           10321\n",
      "EXPIRE_FLAG           0\n",
      "age                   0\n",
      "readmission           0\n",
      "mortality             0\n",
      "los_3day              0\n",
      "los_7day              0\n",
      "ICD9_CODE             0\n",
      "12h_obs               0\n",
      "24h_obs               0\n",
      "diagnosis             0\n",
      "dtype: int64)\n",
      "\n",
      "eICU missing values: patientunitstayid               0\n",
      "patienthealthsystemstayid       0\n",
      "gender                          0\n",
      "age                             0\n",
      "ethnicity                      24\n",
      "hospitalid                      0\n",
      "wardid                          0\n",
      "apacheadmissiondx               8\n",
      "admissionheight                97\n",
      "hospitaladmittime24             0\n",
      "hospitaladmitoffset             0\n",
      "hospitaladmitsource          4083\n",
      "hospitaldischargeyear           0\n",
      "hospitaldischargetime24         0\n",
      "hospitaldischargeoffset         0\n",
      "hospitaldischargelocation     118\n",
      "hospitaldischargestatus       104\n",
      "unittype                        0\n",
      "unitadmittime24                 0\n",
      "unitadmitsource                13\n",
      "unitvisitnumber                 0\n",
      "unitstaytype                    0\n",
      "admissionweight               240\n",
      "dischargeweight              4896\n",
      "unitdischargetime24             0\n",
      "unitdischargeoffset             0\n",
      "unitdischargelocation          17\n",
      "unitdischargestatus             2\n",
      "uniquepid                       0\n",
      "readmission                     0\n",
      "mortality                       0\n",
      "losday                          0\n",
      "los_3day                        0\n",
      "los_7day                        0\n",
      "diagnosisstring                 0\n",
      "diagnosis                       0\n",
      "dtype: int64)\n",
      "\n"
     ]
    }
   ],
   "source": [
    "# Check the missing values\n",
    "print(f\"MIMIC-III missing values: {mimic_cohort.isnull().sum()})\\n\")\n",
    "print(f\"eICU missing values: {eicu_cohort.isnull().sum()})\\n\")\n"
   ]
  },
  {
   "cell_type": "markdown",
   "metadata": {},
   "source": [
    "##### Check value counts in the data"
   ]
  },
  {
   "cell_type": "markdown",
   "metadata": {},
   "source": [
    "##### Check demographics of the patients"
   ]
  },
  {
   "cell_type": "code",
   "execution_count": 23,
   "metadata": {},
   "outputs": [
    {
     "data": {
      "text/plain": [
       "Index(['SUBJECT_ID', 'HADM_ID', 'ICUSTAY_ID', 'DBSOURCE', 'FIRST_CAREUNIT',\n",
       "       'LAST_CAREUNIT', 'FIRST_WARDID', 'LAST_WARDID', 'INTIME', 'OUTTIME',\n",
       "       'LOS', 'GENDER', 'DOB', 'DOD', 'DOD_HOSP', 'DOD_SSN', 'EXPIRE_FLAG',\n",
       "       'age', 'readmission', 'mortality', 'los_3day', 'los_7day', 'ICD9_CODE',\n",
       "       '12h_obs', '24h_obs', 'diagnosis'],\n",
       "      dtype='object')"
      ]
     },
     "execution_count": 23,
     "metadata": {},
     "output_type": "execute_result"
    }
   ],
   "source": [
    "mimic_cohort.columns"
   ]
  },
  {
   "cell_type": "code",
   "execution_count": 26,
   "metadata": {},
   "outputs": [
    {
     "data": {
      "text/plain": [
       "<Axes: xlabel='age', ylabel='Count'>"
      ]
     },
     "execution_count": 26,
     "metadata": {},
     "output_type": "execute_result"
    },
    {
     "data": {
      "image/png": "[encoded data removed]",
      "text/plain": [
       "<Figure size 1000x500 with 1 Axes>"
      ]
     },
     "metadata": {},
     "output_type": "display_data"
    },
    {
     "data": {
      "image/png": "[encoded data removed]",
      "text/plain": [
       "<Figure size 1000x500 with 1 Axes>"
      ]
     },
     "metadata": {},
     "output_type": "display_data"
    }
   ],
   "source": [
    "# demographics in MIMIC-III: GENDER, age\n",
    "import seaborn as sns\n",
    "import matplotlib.pyplot as plt\n",
    "\n",
    "plt.figure(figsize=(10, 5))\n",
    "sns.countplot(mimic_cohort['GENDER'])\n",
    "plt.figure(figsize=(10, 5))\n",
    "sns.histplot(mimic_cohort['age'])"
   ]
  },
  {
   "cell_type": "code",
   "execution_count": 29,
   "metadata": {},
   "outputs": [
    {
     "data": {
      "text/plain": [
       "Index(['patientunitstayid', 'patienthealthsystemstayid', 'gender', 'age',\n",
       "       'ethnicity', 'hospitalid', 'wardid', 'apacheadmissiondx',\n",
       "       'admissionheight', 'hospitaladmittime24', 'hospitaladmitoffset',\n",
       "       'hospitaladmitsource', 'hospitaldischargeyear',\n",
       "       'hospitaldischargetime24', 'hospitaldischargeoffset',\n",
       "       'hospitaldischargelocation', 'hospitaldischargestatus', 'unittype',\n",
       "       'unitadmittime24', 'unitadmitsource', 'unitvisitnumber', 'unitstaytype',\n",
       "       'admissionweight', 'dischargeweight', 'unitdischargetime24',\n",
       "       'unitdischargeoffset', 'unitdischargelocation', 'unitdischargestatus',\n",
       "       'uniquepid', 'readmission', 'mortality', 'losday', 'los_3day',\n",
       "       'los_7day', 'diagnosisstring', 'diagnosis'],\n",
       "      dtype='object')"
      ]
     },
     "execution_count": 29,
     "metadata": {},
     "output_type": "execute_result"
    }
   ],
   "source": [
    "eicu_cohort.columns"
   ]
  },
  {
   "cell_type": "code",
   "execution_count": 32,
   "metadata": {},
   "outputs": [
    {
     "data": {
      "text/plain": [
       "<Axes: xlabel='ethnicity', ylabel='Count'>"
      ]
     },
     "execution_count": 32,
     "metadata": {},
     "output_type": "execute_result"
    },
    {
     "data": {
      "image/png": "[encoded data removed]",
      "text/plain": [
       "<Figure size 1000x500 with 1 Axes>"
      ]
     },
     "metadata": {},
     "output_type": "display_data"
    },
    {
     "data": {
      "image/png": "[encoded data removed]",
      "text/plain": [
       "<Figure size 1000x500 with 1 Axes>"
      ]
     },
     "metadata": {},
     "output_type": "display_data"
    },
    {
     "data": {
      "image/png": "[encoded data removed]",
      "text/plain": [
       "<Figure size 1000x500 with 1 Axes>"
      ]
     },
     "metadata": {},
     "output_type": "display_data"
    }
   ],
   "source": [
    "# demographics in eicu: gender, age\n",
    "import seaborn as sns\n",
    "import matplotlib.pyplot as plt\n",
    "\n",
    "plt.figure(figsize=(10, 5))\n",
    "sns.countplot(eicu_cohort['gender'])\n",
    "plt.figure(figsize=(10, 5))\n",
    "sns.histplot(eicu_cohort['age'])\n",
    "plt.figure(figsize=(10, 5))\n",
    "sns.histplot(eicu_cohort['ethnicity'])"
   ]
  },
  {
   "cell_type": "markdown",
   "metadata": {
    "id": "3muyDPFPbozY"
   },
   "source": [
    "#   Model <a id=\"model\"></a>\n",
    "The model includes the model definitation which usually is a class, model training, and other necessary parts.\n",
    "  * Model architecture: layer number/size/type, activation function, etc\n",
    "  * Training objectives: loss function, optimizer, weight of each loss term, etc\n",
    "  * Others: whether the model is pretrained, Monte Carlo simulation for uncertainty analysis, etc\n",
    "  * The code of model should have classes of the model, functions of model training, model validation, etc.\n",
    "  * If your model training is done outside of this notebook, please upload the trained model here and develop a function to load and test it.\n",
    "\n",
    "## *CodeEmb* vs. *DescEmb* strategies\n",
    "\n",
    "The authors propose two strategies to embed the data: *CodeEmb* and *DescEmb*. The two strategies are described as follows:\n",
    "\n",
    "$$\n",
    "\n",
    "\\begin{align*}\n",
    "  \\textit{Code-based Embedding:} \\\\\n",
    "  &\\boldsymbol{c}_i = E_{\\Psi}(\\boldsymbol{c}_i) \\\\\n",
    "  &\\hat{y} = P_{\\Phi}(\\boldsymbol{c}_1, \\boldsymbol{c}_2, ..., \\boldsymbol{c}_T) \\\\  \n",
    "  \\textit{Description-based Embedding:} \\\\\n",
    "  &d_i = (w_{i,1}, w_{i,2}, ... , w_{i,n}) \\\\\n",
    "  &\\boldsymbol{z}_i = B_{\\Psi}(d_i)  \\\\\n",
    "  &\\hat{y} = P_{\\Phi}(\\boldsymbol{z}_1, \\boldsymbol{z}_2, ..., \\boldsymbol{z}_T )\n",
    "\\end{align*}\n",
    "\n",
    "$$ \n",
    "\n",
    "Effectively, the *CodeEmb* strategy uses the medical events directly, while the *DescEmb* strategy uses the text descriptions of the medical events. The authors use a Bi-LSTM for the embedding layer $E_{\\Psi}$ in *CodeEmb*. For  $B_{\\Psi}$ they ended up using a BERT (Bi-directional Encoder Representations from Transformers). While the authors tested several model depths, we will only use the smallest 2-MSA-layer model **BERT-tiny**. For the most part $\\boldsymbol{z_i}$ corresponds to the BERT output vector for the *[CLS]* token. The prediction layer $P_{\\Phi}$ employs an RNN.\n",
    "\n",
    "## Value Embedding\n",
    "\n",
    "The descriptions of medical events often contain numbers (values), which are important for the prediction tasks. The authors propose four different methods to embed these values into the model. The methods is described as follows:\n",
    "\n",
    "* Value Aggregation (VA): All numbers are used as is and embedded into a single vector. This has two disadvanteges\n",
    "  - Use a lot of rare (in the Zipfian sense) tokens for all the numbers\n",
    "  - Prone to sub-word tokenization (e.g. `1351` gets split into `13` and `15`) \n",
    "* Digit-split value aggregation (DSVA): The numbers are split into digits and embedded separately. This has the advantage of not needing rare tokens, but the disadvantage of not capturing the value as a whole.\n",
    "* DSVA + Digit Place Embedding (DSVA-DPE): The numbers are split into digits and embedded separately. Additionally, the place of the digit is embedded. This has the advantage of capturing the value as a whole, but the disadvantage of needing more tokens.\n",
    "* Value Concatenated (VC): Numbers and their corresponding physical units are embedded and then concatenated. This has the advantage of capturing the value as a whole and the physical unit, but the disadvantage of needing more tokens. The value embeddings in this case is done using a single layer feed-forward neural network (MLP or `nn.Linear` in PyTorch).\n",
    "\n",
    "The following figure summarizes the value embedding techniques. \n",
    "\n",
    "![](assets/Fig3.png)\n",
    "\n",
    "## Model Training\n",
    "\n",
    "There are three optimization schemes used in the paper:\n",
    "\n",
    "$$\n",
    "\\begin{align}\n",
    "  \\textit{CodeEmb}: argmin_{\\Theta, \\Psi} \\mathcal{L}(\\hat{y}, y) \\\\\n",
    "  \\textit{DescEmb, all parameters}: argmin_{\\Theta, \\Phi} \\mathcal{L}(\\hat{y}, y) \\\\\n",
    "  \\textit{DescEmb, class fine-tuning}: argmin_{\\Psi, \\boldsymbol{z}_{CLS}} \\mathcal{L}(\\hat{y}, y) \\\\\n",
    "\\end{align}\n",
    "$$\n",
    "\n",
    "Eqn. 1 is the optimization scheme for *CodeEmb*, where $\\Theta$ are the parameters of the prediction layer and $E_{\\Psi}$, and $\\Psi$ are the parameters of the embedding layer. Eqn. 2 is the optimization scheme for *DescEmb* where all parameters are fine-tuned. Eqn. 3 is the optimization scheme for *DescEmb* where only the class token $\\boldsymbol{z}_{CLS}$ is fine-tuned, but the parameters of the text embedding layer $E_{\\Psi}$ are fixed."
   ]
  },
  {
   "cell_type": "markdown",
   "metadata": {},
   "source": [
    "We used the author's example scripts for running model training and provide our scripts in the `project_code` folder.\n",
    "\n",
    "| Script | Description | Essential Arguments |\n",
    "| --- | --- | --- |\n",
    "| [00_pretrain_codeemb.sh](project_code/01_pretraining/00_pretrain_codeemb.sh) | Pretrain the *CodeEmb* model (i.e. Embedding layer followed by RNN) | `--model ehr_model --embed_model codeemb --value_mode NV --task w2v` |\n",
    "| [01_pretrain_descemb_rnn.sh](project_code/01_pretraining/01_pretrain_descemb_rnn.sh) | Pretrain the *DescEmb* encoder with RNN architecture and MLM target | `--model descemb_rnn --value_mode NV --task mlm` |\n",
    "| [02_pretrain_descemb_bert.sh](project_code/01_pretraining/02_pretrain_descemb_bert.sh) | Pretrain the *DescEmb* encoder with BERT architecture and MLM target | `--model descemb_bert --value_mode NV --task mlm` |\n",
    "| [00_single_domain_learning_descemb.sh](project_code/02_single_domain_learning/00_single_domain_learning_descemb.sh) | Train the *DescEmb* model with fine-tuning on prediction task | Iterate through `--embed_models=('descemb_rnn' 'descemb_bert')`, `--tasks=('readmission' 'mortality' 'los_3day' 'los_7day' 'diagnosis')` and `--value_modes=('NV' 'VA' 'DSVA' 'DSVA_DPE' 'VC')` |\n",
    "| [01_single_domain_learning_codeemb.sh](project_code/02_single_domain_learning/01_single_domain_learning_codeemb.sh) | Train the *CodeEmb* model with fine-tuning on prediction task | Iterate through `--embed_models=('codeemb')`, `--tasks=('readmission' 'mortality' 'los_3day' 'los_7day' 'diagnosis')` and `--value_modes=('NV' 'VA' 'DSVA' 'VC')` |"
   ]
  },
  {
   "cell_type": "markdown",
   "metadata": {},
   "source": [
    "The training loop is part of the trainer classes in the `trainer.py` file. The training loop is a standard PyTorch training loop. We did modify these scripts to run on a single GPU, as we only have access to a single GPU. The scripts provided by the authors are for multi-GPU training. "
   ]
  },
  {
   "cell_type": "markdown",
   "metadata": {
    "id": "gBdVZoTvsSFV"
   },
   "source": [
    "```python\n",
    "## Before the training loop get the available GPU devices (exerpt)\n",
    "self.n_devices = torch.cuda.device_count() if torch.cuda.is_available() else 0\n",
    "self.device = torch.device('cuda' if torch.cuda.is_available() else 'cpu')\n",
    "if self.n_devices > 1:\n",
    "    self.model = nn.DataParallel(model, device_ids=args.device_ids).to(self.device)\n",
    "else:\n",
    "    self.model = model.to(self.device)\n",
    "## continue trainer init ...\n",
    "```\n",
    "\n",
    "```python\n",
    "## Inside the training loop (exerpt)\n",
    "for sample in tqdm.tqdm(self.data_loaders['train']):\n",
    "    self.optimizer.zero_grad(set_to_none=True)\n",
    "    net_output = self.model(**sample[\"net_input\"])\n",
    "    if self.n_devices > 1:\n",
    "        logits = self.model.module.get_logits(net_output)\n",
    "        target = self.model.module.get_targets(sample).to(logits.device)\n",
    "    else:\n",
    "        logits = self.model.get_logits(net_output)\n",
    "        target = self.model.get_targets(sample).to(logits.device)\n",
    "## continue loop ...\n",
    "```\n"
   ]
  },
  {
   "cell_type": "markdown",
   "metadata": {},
   "source": [
    "The number of hyperparameters needed to uniquely determine each experiment is at least 7, plus some additional parameters regarding data and model paths. For this reason we produced the following table to generate an overview of the hyperparameters used in the paper. We also use this to keep track of which experiments need to be run in order to reproduce the results from the paper. \n",
    "![assets/Overview_training_conditions.png](assets/Overview_training_conditions.png) \n"
   ]
  },
  {
   "cell_type": "markdown",
   "metadata": {
    "id": "gX6bCcZNuxmz"
   },
   "source": [
    "# Results and Analysis"
   ]
  },
  {
   "cell_type": "markdown",
   "metadata": {},
   "source": [
    "## Preprocessing"
   ]
  },
  {
   "cell_type": "markdown",
   "metadata": {},
   "source": [
    "We had many issues during the preprocessing step, because not all options are documented. So, at first we learned them from the command-line options in the source code. Then the authors released an updated version which fixed some of the issues we had (which we are very appreciative of). There was still a lot of trial and error involved.\n",
    "Still on the tha last day before the draft deadline the authors are still making changes and we are still trying to get the preprocessing to work.\n",
    "\n",
    "![](assets/github_activity.png)\n",
    "\n",
    "Some issues were related to the folder structure the scripts are creating to deviate from what some parts of the processing are expecting. We filed an [issue](https://github.com/hoon9405/DescEmb/issues/10) on that. As a workaround we used some manual copying and soft linking of files to the best of our understanding. However, it is likely that we made some mistakes in this process. Still for the draft submission we utilized the preprocessed data thus obtained. "
   ]
  },
  {
   "cell_type": "markdown",
   "metadata": {},
   "source": [
    "## Pretraining *DescEmb* with RNN or BERT encoders"
   ]
  },
  {
   "cell_type": "markdown",
   "metadata": {},
   "source": [
    "In order to get *DescEmb* to run we need to pretrain the text encoders. We ran the scripts provided by the authors for pretraining the *DescEmb* model with RNN and BERT encoders. We ran the scripts for pretraining the *DescEmb* model with RNN and BERT encoders. The scripts are provided in the `project_code` folder (see table above).\n",
    "A serious issue we had has been that all pretrainings with `--task mlm` got stalled. Debugging showed, that there must be an issue with the `MLMTokenizedDataset` class. Apparently, there is no noteable progress when loading the first batch of data, even when letting it run for hours (on the same machine we used for pre-processing). At one point we hypothesized that maybe the dataset is too large and created a minimal version MIMIC-III with only 1% of the data randomly sampled. We used [03_Creating_minimal_dataset.ipynb](03_Creating_minimal_dataset.ipynb) to that end. This did not solve our problem either. We have these options to try next:\n",
    "* Continue debugging the `MLMTokenizedDataset` class to find what is causing the slow loading\n",
    "* We plan on contacting the authors about this issue going forward. "
   ]
  },
  {
   "cell_type": "markdown",
   "metadata": {},
   "source": [
    "## Experiment Tracking"
   ]
  },
  {
   "cell_type": "markdown",
   "metadata": {},
   "source": [
    "There is a substantial number of experiments to run if we wish to reproduce the results of the paper. Each of Tables 1 and 2 in the paper reports the AUPRC on five prediction tasks with 3-4 different value embedding methods and different models. This results in 170 experiments to run each. Table 3 reports the AUPRC on single domain learning, transfer learning and pooled learning, which amounts to 120 experiments. \n",
    "We need to keep track not only of the AUPRC metrics, but also the hyperparameters used in each experiment. Likewise, if a run doesn't finish, we need to keep track of the reason why. While popular tools such as  [Weights & Biases](https://wandb.ai/site) or [mlflow](https://mlflow.org/docs/latest/index.html) exist for this purpose, they, too require some overhead to set up. We will use a simple logging system for now:\n",
    "The `Trainer` class in the `trainer.py` file has a `log` method which logs the loss and AUPRC progression, as well as hyperparameters to a file called `train.log`. We will use this to log the hyperparameters and the results of each experiment. \n",
    "\n",
    "In order to generate and overview as well as results table we produced some helper functions to parse the results from these log files. We provide these functions in the `project_code/evaluate` folder in `logs.py`. Some more helper functions are [in the works](04_Collating_Training_Results.ipynb) to generate training history plots and other visualizations, much like `tensorboard` would do, but simpler and more tailored to our needs.\n",
    "\n",
    "A global table with all experiments is stored as an Excel file in the `project_code/outputs/experiments.xlsx` folder (note this is a symlink to `project_code/DescEmb/outputs`)."
   ]
  },
  {
   "cell_type": "markdown",
   "metadata": {},
   "source": [
    "## Model Performance"
   ]
  },
  {
   "cell_type": "markdown",
   "metadata": {},
   "source": [
    "The authors reported mainly AUPRC, i.e. area under the precision-recall curve, as the evaluation metric.\n",
    "There are three main tables in the paper which we will try to reproduce. \n",
    "* The first and second table reflect the performance of the *CodeEmb* and *DescEmb* strategies on the five tasks with and without pretraining as well as different value embedding strategies. Table 1 shows the performance on MIMIC-III while Table 2 shows the performance on eICU. This speask to **Hypothesis 1**.\n",
    "* The third table provides a comparison of the performance on single domain learning, transfer learning of model trained on MIMIC-III and fine-tuned on eICU (and vice versa) as well as the performance when using pooled data. This table speaks to **Hypothesis 2** and **Hypothesis 3**."
   ]
  },
  {
   "cell_type": "markdown",
   "metadata": {},
   "source": [
    "### Single Domain Learning "
   ]
  },
  {
   "cell_type": "markdown",
   "metadata": {},
   "source": [
    "We already worked on running single domain training with a subset of the available conditions using the full MIMIC-III dataset. Since pretraining with MLM was not successful we could only use model training from scratch (in the case of RNN). Thus, results are way sub-par, but we get an overview of which experiments at least finished training and we established the infrastructure for training and experiment tracking to run the full experiments once the pretraining issue is resolved."
   ]
  },
  {
   "cell_type": "code",
   "execution_count": 6,
   "metadata": {},
   "outputs": [],
   "source": [
    "import pandas as pd"
   ]
  },
  {
   "cell_type": "code",
   "execution_count": 9,
   "metadata": {},
   "outputs": [],
   "source": [
    "df = pd.read_excel('outputs/experiments.xlsx') # read the experiments.xlsx file"
   ]
  },
  {
   "cell_type": "code",
   "execution_count": 11,
   "metadata": {},
   "outputs": [
    {
     "data": {
      "text/html": [
       "<div>\n",
       "<style scoped>\n",
       "    .dataframe tbody tr th:only-of-type {\n",
       "        vertical-align: middle;\n",
       "    }\n",
       "\n",
       "    .dataframe tbody tr th {\n",
       "        vertical-align: top;\n",
       "    }\n",
       "\n",
       "    .dataframe thead th {\n",
       "        text-align: right;\n",
       "    }\n",
       "</style>\n",
       "<table border=\"1\" class=\"dataframe\">\n",
       "  <thead>\n",
       "    <tr style=\"text-align: right;\">\n",
       "      <th></th>\n",
       "      <th>run</th>\n",
       "      <th>done</th>\n",
       "      <th>src_data</th>\n",
       "      <th>task</th>\n",
       "      <th>embed_model</th>\n",
       "      <th>model</th>\n",
       "      <th>value_mode</th>\n",
       "      <th>auprc</th>\n",
       "    </tr>\n",
       "  </thead>\n",
       "  <tbody>\n",
       "    <tr>\n",
       "      <th>127</th>\n",
       "      <td>outputs/2024-04-13/22-41-37</td>\n",
       "      <td>True</td>\n",
       "      <td>mimiciii</td>\n",
       "      <td>diagnosis</td>\n",
       "      <td>codeemb</td>\n",
       "      <td>ehr_model</td>\n",
       "      <td>NV</td>\n",
       "      <td>0.642</td>\n",
       "    </tr>\n",
       "    <tr>\n",
       "      <th>128</th>\n",
       "      <td>outputs/2024-04-13/22-49-32</td>\n",
       "      <td>True</td>\n",
       "      <td>mimiciii</td>\n",
       "      <td>diagnosis</td>\n",
       "      <td>codeemb</td>\n",
       "      <td>ehr_model</td>\n",
       "      <td>VA</td>\n",
       "      <td>0.636</td>\n",
       "    </tr>\n",
       "    <tr>\n",
       "      <th>129</th>\n",
       "      <td>outputs/2024-04-13/22-56-37</td>\n",
       "      <td>True</td>\n",
       "      <td>mimiciii</td>\n",
       "      <td>diagnosis</td>\n",
       "      <td>codeemb</td>\n",
       "      <td>ehr_model</td>\n",
       "      <td>DSVA</td>\n",
       "      <td>0.643</td>\n",
       "    </tr>\n",
       "    <tr>\n",
       "      <th>130</th>\n",
       "      <td>outputs/2024-04-13/23-04-16</td>\n",
       "      <td>False</td>\n",
       "      <td>mimiciii</td>\n",
       "      <td>diagnosis</td>\n",
       "      <td>codeemb</td>\n",
       "      <td>ehr_model</td>\n",
       "      <td>VC</td>\n",
       "      <td>NaN</td>\n",
       "    </tr>\n",
       "    <tr>\n",
       "      <th>131</th>\n",
       "      <td>outputs/2024-04-11/06-58-08</td>\n",
       "      <td>True</td>\n",
       "      <td>mimiciii</td>\n",
       "      <td>mortality</td>\n",
       "      <td>descemb_rnn</td>\n",
       "      <td>ehr_model</td>\n",
       "      <td>NV</td>\n",
       "      <td>0.089</td>\n",
       "    </tr>\n",
       "    <tr>\n",
       "      <th>132</th>\n",
       "      <td>outputs/2024-04-11/07-13-10</td>\n",
       "      <td>True</td>\n",
       "      <td>mimiciii</td>\n",
       "      <td>mortality</td>\n",
       "      <td>codeemb</td>\n",
       "      <td>ehr_model</td>\n",
       "      <td>NV</td>\n",
       "      <td>0.094</td>\n",
       "    </tr>\n",
       "    <tr>\n",
       "      <th>133</th>\n",
       "      <td>outputs/2024-04-11/07-14-13</td>\n",
       "      <td>True</td>\n",
       "      <td>mimiciii</td>\n",
       "      <td>mortality</td>\n",
       "      <td>descemb_rnn</td>\n",
       "      <td>ehr_model</td>\n",
       "      <td>DSVA_DPE</td>\n",
       "      <td>0.089</td>\n",
       "    </tr>\n",
       "    <tr>\n",
       "      <th>134</th>\n",
       "      <td>outputs/2024-04-11/07-18-52</td>\n",
       "      <td>True</td>\n",
       "      <td>mimiciii</td>\n",
       "      <td>mortality</td>\n",
       "      <td>descemb_rnn</td>\n",
       "      <td>ehr_model</td>\n",
       "      <td>VC</td>\n",
       "      <td>0.089</td>\n",
       "    </tr>\n",
       "    <tr>\n",
       "      <th>135</th>\n",
       "      <td>outputs/2024-04-11/07-23-05</td>\n",
       "      <td>True</td>\n",
       "      <td>mimiciii</td>\n",
       "      <td>mortality</td>\n",
       "      <td>descemb_rnn</td>\n",
       "      <td>ehr_model</td>\n",
       "      <td>DSVA</td>\n",
       "      <td>0.089</td>\n",
       "    </tr>\n",
       "    <tr>\n",
       "      <th>136</th>\n",
       "      <td>outputs/2024-04-11/07-26-56</td>\n",
       "      <td>True</td>\n",
       "      <td>mimiciii</td>\n",
       "      <td>mortality</td>\n",
       "      <td>descemb_rnn</td>\n",
       "      <td>ehr_model</td>\n",
       "      <td>VA</td>\n",
       "      <td>0.089</td>\n",
       "    </tr>\n",
       "  </tbody>\n",
       "</table>\n",
       "</div>"
      ],
      "text/plain": [
       "                             run   done  src_data       task  embed_model  \\\n",
       "127  outputs/2024-04-13/22-41-37   True  mimiciii  diagnosis      codeemb   \n",
       "128  outputs/2024-04-13/22-49-32   True  mimiciii  diagnosis      codeemb   \n",
       "129  outputs/2024-04-13/22-56-37   True  mimiciii  diagnosis      codeemb   \n",
       "130  outputs/2024-04-13/23-04-16  False  mimiciii  diagnosis      codeemb   \n",
       "131  outputs/2024-04-11/06-58-08   True  mimiciii  mortality  descemb_rnn   \n",
       "132  outputs/2024-04-11/07-13-10   True  mimiciii  mortality      codeemb   \n",
       "133  outputs/2024-04-11/07-14-13   True  mimiciii  mortality  descemb_rnn   \n",
       "134  outputs/2024-04-11/07-18-52   True  mimiciii  mortality  descemb_rnn   \n",
       "135  outputs/2024-04-11/07-23-05   True  mimiciii  mortality  descemb_rnn   \n",
       "136  outputs/2024-04-11/07-26-56   True  mimiciii  mortality  descemb_rnn   \n",
       "\n",
       "         model value_mode  auprc  \n",
       "127  ehr_model         NV  0.642  \n",
       "128  ehr_model         VA  0.636  \n",
       "129  ehr_model       DSVA  0.643  \n",
       "130  ehr_model         VC    NaN  \n",
       "131  ehr_model         NV  0.089  \n",
       "132  ehr_model         NV  0.094  \n",
       "133  ehr_model   DSVA_DPE  0.089  \n",
       "134  ehr_model         VC  0.089  \n",
       "135  ehr_model       DSVA  0.089  \n",
       "136  ehr_model         VA  0.089  "
      ]
     },
     "execution_count": 11,
     "metadata": {},
     "output_type": "execute_result"
    }
   ],
   "source": [
    "df.tail(10)"
   ]
  },
  {
   "cell_type": "markdown",
   "metadata": {},
   "source": [
    "The left two columns are for our internal bookkeeping. `done` is True, if training finished successfully as parsed from the end of the log file. The right columns is the AUPRC for the test set.\n"
   ]
  },
  {
   "cell_type": "code",
   "execution_count": 12,
   "metadata": {},
   "outputs": [],
   "source": [
    "# Only finished experiments\n",
    "df_finished = df[df.done==True]"
   ]
  },
  {
   "cell_type": "code",
   "execution_count": 13,
   "metadata": {},
   "outputs": [
    {
     "data": {
      "text/html": [
       "<div>\n",
       "<style scoped>\n",
       "    .dataframe tbody tr th:only-of-type {\n",
       "        vertical-align: middle;\n",
       "    }\n",
       "\n",
       "    .dataframe tbody tr th {\n",
       "        vertical-align: top;\n",
       "    }\n",
       "\n",
       "    .dataframe thead th {\n",
       "        text-align: right;\n",
       "    }\n",
       "</style>\n",
       "<table border=\"1\" class=\"dataframe\">\n",
       "  <thead>\n",
       "    <tr style=\"text-align: right;\">\n",
       "      <th></th>\n",
       "      <th>src_data</th>\n",
       "      <th>task</th>\n",
       "      <th>value_mode</th>\n",
       "      <th>auprc</th>\n",
       "    </tr>\n",
       "  </thead>\n",
       "  <tbody>\n",
       "    <tr>\n",
       "      <th>111</th>\n",
       "      <td>mimiciii</td>\n",
       "      <td>readmission</td>\n",
       "      <td>NV</td>\n",
       "      <td>0.047</td>\n",
       "    </tr>\n",
       "    <tr>\n",
       "      <th>112</th>\n",
       "      <td>mimiciii</td>\n",
       "      <td>readmission</td>\n",
       "      <td>VA</td>\n",
       "      <td>0.043</td>\n",
       "    </tr>\n",
       "    <tr>\n",
       "      <th>113</th>\n",
       "      <td>mimiciii</td>\n",
       "      <td>readmission</td>\n",
       "      <td>DSVA</td>\n",
       "      <td>0.043</td>\n",
       "    </tr>\n",
       "    <tr>\n",
       "      <th>115</th>\n",
       "      <td>mimiciii</td>\n",
       "      <td>mortality</td>\n",
       "      <td>NV</td>\n",
       "      <td>0.094</td>\n",
       "    </tr>\n",
       "    <tr>\n",
       "      <th>116</th>\n",
       "      <td>mimiciii</td>\n",
       "      <td>mortality</td>\n",
       "      <td>VA</td>\n",
       "      <td>0.090</td>\n",
       "    </tr>\n",
       "    <tr>\n",
       "      <th>117</th>\n",
       "      <td>mimiciii</td>\n",
       "      <td>mortality</td>\n",
       "      <td>DSVA</td>\n",
       "      <td>0.090</td>\n",
       "    </tr>\n",
       "    <tr>\n",
       "      <th>120</th>\n",
       "      <td>mimiciii</td>\n",
       "      <td>los_3day</td>\n",
       "      <td>VA</td>\n",
       "      <td>0.349</td>\n",
       "    </tr>\n",
       "    <tr>\n",
       "      <th>121</th>\n",
       "      <td>mimiciii</td>\n",
       "      <td>los_3day</td>\n",
       "      <td>DSVA</td>\n",
       "      <td>0.350</td>\n",
       "    </tr>\n",
       "    <tr>\n",
       "      <th>123</th>\n",
       "      <td>mimiciii</td>\n",
       "      <td>los_7day</td>\n",
       "      <td>NV</td>\n",
       "      <td>0.133</td>\n",
       "    </tr>\n",
       "    <tr>\n",
       "      <th>124</th>\n",
       "      <td>mimiciii</td>\n",
       "      <td>los_7day</td>\n",
       "      <td>VA</td>\n",
       "      <td>0.129</td>\n",
       "    </tr>\n",
       "    <tr>\n",
       "      <th>125</th>\n",
       "      <td>mimiciii</td>\n",
       "      <td>los_7day</td>\n",
       "      <td>DSVA</td>\n",
       "      <td>0.129</td>\n",
       "    </tr>\n",
       "    <tr>\n",
       "      <th>127</th>\n",
       "      <td>mimiciii</td>\n",
       "      <td>diagnosis</td>\n",
       "      <td>NV</td>\n",
       "      <td>0.642</td>\n",
       "    </tr>\n",
       "    <tr>\n",
       "      <th>128</th>\n",
       "      <td>mimiciii</td>\n",
       "      <td>diagnosis</td>\n",
       "      <td>VA</td>\n",
       "      <td>0.636</td>\n",
       "    </tr>\n",
       "    <tr>\n",
       "      <th>129</th>\n",
       "      <td>mimiciii</td>\n",
       "      <td>diagnosis</td>\n",
       "      <td>DSVA</td>\n",
       "      <td>0.643</td>\n",
       "    </tr>\n",
       "    <tr>\n",
       "      <th>132</th>\n",
       "      <td>mimiciii</td>\n",
       "      <td>mortality</td>\n",
       "      <td>NV</td>\n",
       "      <td>0.094</td>\n",
       "    </tr>\n",
       "  </tbody>\n",
       "</table>\n",
       "</div>"
      ],
      "text/plain": [
       "     src_data         task value_mode  auprc\n",
       "111  mimiciii  readmission         NV  0.047\n",
       "112  mimiciii  readmission         VA  0.043\n",
       "113  mimiciii  readmission       DSVA  0.043\n",
       "115  mimiciii    mortality         NV  0.094\n",
       "116  mimiciii    mortality         VA  0.090\n",
       "117  mimiciii    mortality       DSVA  0.090\n",
       "120  mimiciii     los_3day         VA  0.349\n",
       "121  mimiciii     los_3day       DSVA  0.350\n",
       "123  mimiciii     los_7day         NV  0.133\n",
       "124  mimiciii     los_7day         VA  0.129\n",
       "125  mimiciii     los_7day       DSVA  0.129\n",
       "127  mimiciii    diagnosis         NV  0.642\n",
       "128  mimiciii    diagnosis         VA  0.636\n",
       "129  mimiciii    diagnosis       DSVA  0.643\n",
       "132  mimiciii    mortality         NV  0.094"
      ]
     },
     "execution_count": 13,
     "metadata": {},
     "output_type": "execute_result"
    }
   ],
   "source": [
    "# All auprc values for codeemb\n",
    "df_finished.loc[df_finished.embed_model == 'codeemb', ['src_data', 'task', 'value_mode', 'auprc']]"
   ]
  },
  {
   "cell_type": "markdown",
   "metadata": {},
   "source": [
    "The AUPRC values we obtained so far are below what we expected. We attribute this to two main reasons:\n",
    "* Preprocessing may still have issues. \n",
    "* We need to pretrain CodeEmb with the W2V task before training the prediction tasks.\n",
    "     "
   ]
  },
  {
   "cell_type": "code",
   "execution_count": 16,
   "metadata": {},
   "outputs": [
    {
     "data": {
      "text/html": [
       "<div>\n",
       "<style scoped>\n",
       "    .dataframe tbody tr th:only-of-type {\n",
       "        vertical-align: middle;\n",
       "    }\n",
       "\n",
       "    .dataframe tbody tr th {\n",
       "        vertical-align: top;\n",
       "    }\n",
       "\n",
       "    .dataframe thead th {\n",
       "        text-align: right;\n",
       "    }\n",
       "</style>\n",
       "<table border=\"1\" class=\"dataframe\">\n",
       "  <thead>\n",
       "    <tr style=\"text-align: right;\">\n",
       "      <th></th>\n",
       "      <th>src_data</th>\n",
       "      <th>task</th>\n",
       "      <th>value_mode</th>\n",
       "      <th>auprc</th>\n",
       "    </tr>\n",
       "  </thead>\n",
       "  <tbody>\n",
       "    <tr>\n",
       "      <th>41</th>\n",
       "      <td>mimiciii</td>\n",
       "      <td>readmission</td>\n",
       "      <td>NV</td>\n",
       "      <td>0.043</td>\n",
       "    </tr>\n",
       "    <tr>\n",
       "      <th>42</th>\n",
       "      <td>mimiciii</td>\n",
       "      <td>readmission</td>\n",
       "      <td>VA</td>\n",
       "      <td>0.043</td>\n",
       "    </tr>\n",
       "    <tr>\n",
       "      <th>45</th>\n",
       "      <td>mimiciii</td>\n",
       "      <td>readmission</td>\n",
       "      <td>VC</td>\n",
       "      <td>0.043</td>\n",
       "    </tr>\n",
       "    <tr>\n",
       "      <th>46</th>\n",
       "      <td>mimiciii</td>\n",
       "      <td>mortality</td>\n",
       "      <td>NV</td>\n",
       "      <td>0.089</td>\n",
       "    </tr>\n",
       "    <tr>\n",
       "      <th>47</th>\n",
       "      <td>mimiciii</td>\n",
       "      <td>mortality</td>\n",
       "      <td>VA</td>\n",
       "      <td>0.089</td>\n",
       "    </tr>\n",
       "    <tr>\n",
       "      <th>48</th>\n",
       "      <td>mimiciii</td>\n",
       "      <td>mortality</td>\n",
       "      <td>DSVA</td>\n",
       "      <td>0.089</td>\n",
       "    </tr>\n",
       "    <tr>\n",
       "      <th>49</th>\n",
       "      <td>mimiciii</td>\n",
       "      <td>mortality</td>\n",
       "      <td>DSVA_DPE</td>\n",
       "      <td>0.090</td>\n",
       "    </tr>\n",
       "    <tr>\n",
       "      <th>50</th>\n",
       "      <td>mimiciii</td>\n",
       "      <td>mortality</td>\n",
       "      <td>VC</td>\n",
       "      <td>0.090</td>\n",
       "    </tr>\n",
       "    <tr>\n",
       "      <th>51</th>\n",
       "      <td>mimiciii</td>\n",
       "      <td>los_3day</td>\n",
       "      <td>NV</td>\n",
       "      <td>0.350</td>\n",
       "    </tr>\n",
       "    <tr>\n",
       "      <th>52</th>\n",
       "      <td>mimiciii</td>\n",
       "      <td>los_3day</td>\n",
       "      <td>VA</td>\n",
       "      <td>0.357</td>\n",
       "    </tr>\n",
       "    <tr>\n",
       "      <th>53</th>\n",
       "      <td>mimiciii</td>\n",
       "      <td>los_3day</td>\n",
       "      <td>DSVA</td>\n",
       "      <td>0.345</td>\n",
       "    </tr>\n",
       "    <tr>\n",
       "      <th>55</th>\n",
       "      <td>mimiciii</td>\n",
       "      <td>los_3day</td>\n",
       "      <td>VC</td>\n",
       "      <td>0.351</td>\n",
       "    </tr>\n",
       "    <tr>\n",
       "      <th>56</th>\n",
       "      <td>mimiciii</td>\n",
       "      <td>los_7day</td>\n",
       "      <td>NV</td>\n",
       "      <td>0.128</td>\n",
       "    </tr>\n",
       "    <tr>\n",
       "      <th>57</th>\n",
       "      <td>mimiciii</td>\n",
       "      <td>los_7day</td>\n",
       "      <td>VA</td>\n",
       "      <td>0.129</td>\n",
       "    </tr>\n",
       "    <tr>\n",
       "      <th>58</th>\n",
       "      <td>mimiciii</td>\n",
       "      <td>los_7day</td>\n",
       "      <td>DSVA</td>\n",
       "      <td>0.129</td>\n",
       "    </tr>\n",
       "    <tr>\n",
       "      <th>60</th>\n",
       "      <td>mimiciii</td>\n",
       "      <td>los_7day</td>\n",
       "      <td>VC</td>\n",
       "      <td>0.129</td>\n",
       "    </tr>\n",
       "    <tr>\n",
       "      <th>61</th>\n",
       "      <td>mimiciii</td>\n",
       "      <td>diagnosis</td>\n",
       "      <td>NV</td>\n",
       "      <td>0.638</td>\n",
       "    </tr>\n",
       "    <tr>\n",
       "      <th>62</th>\n",
       "      <td>mimiciii</td>\n",
       "      <td>diagnosis</td>\n",
       "      <td>VA</td>\n",
       "      <td>0.646</td>\n",
       "    </tr>\n",
       "    <tr>\n",
       "      <th>63</th>\n",
       "      <td>mimiciii</td>\n",
       "      <td>diagnosis</td>\n",
       "      <td>DSVA</td>\n",
       "      <td>0.646</td>\n",
       "    </tr>\n",
       "    <tr>\n",
       "      <th>64</th>\n",
       "      <td>mimiciii</td>\n",
       "      <td>diagnosis</td>\n",
       "      <td>DSVA_DPE</td>\n",
       "      <td>0.646</td>\n",
       "    </tr>\n",
       "    <tr>\n",
       "      <th>65</th>\n",
       "      <td>mimiciii</td>\n",
       "      <td>diagnosis</td>\n",
       "      <td>VC</td>\n",
       "      <td>0.648</td>\n",
       "    </tr>\n",
       "    <tr>\n",
       "      <th>131</th>\n",
       "      <td>mimiciii</td>\n",
       "      <td>mortality</td>\n",
       "      <td>NV</td>\n",
       "      <td>0.089</td>\n",
       "    </tr>\n",
       "    <tr>\n",
       "      <th>133</th>\n",
       "      <td>mimiciii</td>\n",
       "      <td>mortality</td>\n",
       "      <td>DSVA_DPE</td>\n",
       "      <td>0.089</td>\n",
       "    </tr>\n",
       "    <tr>\n",
       "      <th>134</th>\n",
       "      <td>mimiciii</td>\n",
       "      <td>mortality</td>\n",
       "      <td>VC</td>\n",
       "      <td>0.089</td>\n",
       "    </tr>\n",
       "    <tr>\n",
       "      <th>135</th>\n",
       "      <td>mimiciii</td>\n",
       "      <td>mortality</td>\n",
       "      <td>DSVA</td>\n",
       "      <td>0.089</td>\n",
       "    </tr>\n",
       "    <tr>\n",
       "      <th>136</th>\n",
       "      <td>mimiciii</td>\n",
       "      <td>mortality</td>\n",
       "      <td>VA</td>\n",
       "      <td>0.089</td>\n",
       "    </tr>\n",
       "  </tbody>\n",
       "</table>\n",
       "</div>"
      ],
      "text/plain": [
       "     src_data         task value_mode  auprc\n",
       "41   mimiciii  readmission         NV  0.043\n",
       "42   mimiciii  readmission         VA  0.043\n",
       "45   mimiciii  readmission         VC  0.043\n",
       "46   mimiciii    mortality         NV  0.089\n",
       "47   mimiciii    mortality         VA  0.089\n",
       "48   mimiciii    mortality       DSVA  0.089\n",
       "49   mimiciii    mortality   DSVA_DPE  0.090\n",
       "50   mimiciii    mortality         VC  0.090\n",
       "51   mimiciii     los_3day         NV  0.350\n",
       "52   mimiciii     los_3day         VA  0.357\n",
       "53   mimiciii     los_3day       DSVA  0.345\n",
       "55   mimiciii     los_3day         VC  0.351\n",
       "56   mimiciii     los_7day         NV  0.128\n",
       "57   mimiciii     los_7day         VA  0.129\n",
       "58   mimiciii     los_7day       DSVA  0.129\n",
       "60   mimiciii     los_7day         VC  0.129\n",
       "61   mimiciii    diagnosis         NV  0.638\n",
       "62   mimiciii    diagnosis         VA  0.646\n",
       "63   mimiciii    diagnosis       DSVA  0.646\n",
       "64   mimiciii    diagnosis   DSVA_DPE  0.646\n",
       "65   mimiciii    diagnosis         VC  0.648\n",
       "131  mimiciii    mortality         NV  0.089\n",
       "133  mimiciii    mortality   DSVA_DPE  0.089\n",
       "134  mimiciii    mortality         VC  0.089\n",
       "135  mimiciii    mortality       DSVA  0.089\n",
       "136  mimiciii    mortality         VA  0.089"
      ]
     },
     "execution_count": 16,
     "metadata": {},
     "output_type": "execute_result"
    }
   ],
   "source": [
    "# All auprc values for descemb-rnn\n",
    "df_finished.loc[df_finished.embed_model == 'descemb_rnn', ['src_data', 'task', 'value_mode', 'auprc']]"
   ]
  },
  {
   "cell_type": "markdown",
   "metadata": {},
   "source": [
    "DescEmb with RNN encoder is even more affected by the lack of pretraining. The AUPRC values are very much below what the authors reported.\n",
    "It makes sense that this architecture can compensate less for the lack of pretraining compared to CodeEmb. In the latter there is only an Embedding layer to train, while in the former there is the whole RNN model."
   ]
  },
  {
   "cell_type": "markdown",
   "metadata": {
    "id": "qH75TNU71eRH"
   },
   "source": [
    "# Discussion and Plan\n",
    "To start with we really appreciate the authors made comprehensive code available. This is a great help for reproducibility. However, the code has some issues and some command-line options are not well documented. We learned what arguments are available by looking at the source code. It is still challenging to map all the options to the tables in the paper.\n",
    "\n",
    "So far we had issues with the preprocessing, which likely lead to issues downstream. \n",
    "Another issue we observed was that pretraining models using the masked language model (MLM) target was not working. This will be one important issue to fix in the next phase. We narrowed it down to `MLMTokenizedDataset` taking excessive amounts of time, so we will try to optimize this part.\n",
    "\n",
    "We have been successful at running single domain training (albeit with poor AUPRC results). The poor results likely are caused by the preprocessing issues and lack of proper pre-training. We will try to fix these issues in the next phase.\n",
    "\n",
    "Concrete next steps:\n",
    "* Fix the preprocessing issues (we will try get in touch with the authors to get a better understanding of the preprocessing)\n",
    "* Fix the pretraining issues, especially the MLM pretraining. Success will critically depend on this part. \n",
    "* Then run at least:\n",
    "  - MLM pretraining \n",
    "  - CLS-finetuning\n",
    "  - Single domain training\n",
    "  - Transfer learning\n",
    "  - Pooled data training\n",
    "\n",
    "We will likely not train BERT-tiny from scratch, because it is very computationally expensive and the authors found that it did not help very much over fine-tuning."
   ]
  },
  {
   "cell_type": "markdown",
   "metadata": {},
   "source": [
    "### Technical issues"
   ]
  },
  {
   "cell_type": "markdown",
   "metadata": {},
   "source": [
    "Apart from aforementioned issues with preprocessing and pretraining, we also had some issues with the training code. The training assumes multi-GPU training, which we had to modify to run on a single GPU. We also had some issues with the data loaders, which we had to modify to run on a single GPU.\n",
    "Given the age of the publication the authors used `nn.DataParallels` for multi-GPU training, which is now deprecated in PyTorch. We will NOT try to update the code to use `torch.nn.parallel.DistributedDataParallel` instead, because we wish to avoid multi-GPU training due to cost constraints."
   ]
  },
  {
   "cell_type": "markdown",
   "metadata": {},
   "source": [
    "### Hypothesis 4 - DescEmb outperforms CodeEmb in predicting patient outcomes\n",
    "\n",
    "The authors report that *DescEmb* outperforms *CodeEmb* in most tasks. \n",
    "The basis for which they make this claim is the AUPRC metric on five tasks: Dx, Mort, LOS>3, LOS>7, ReAdm. [Wornow et al. (2023)](#references) criticize the use of AUPRC as the sole metric for evaluation in combination with a narrow set of prediciton tasks. They argue that the tasks used were not always overlapping with other publications thus making it hard to compare the results. Wornow et al. (2023) provide a taxonomy of medical foundation models. According to this taxonomy the tasks used in this paper would fall under the category of \"prediction tasks\" by an FEMR. \n",
    "\n",
    "![](assets/Clams_Femrs.png)\n",
    "\n",
    "\n",
    "While in NLP tasks standardized benchmarks exist, such as BLUE and ROUGE the same is not always true in the medical domain. However, there have been some efforts to standardize the evaluation of medical NLP tasks, such as the BLURB benchmark put forward by [Gu et al. (2022)](#references). To the best of our knowledge the same is unfortunately not true for the tasks used in this paper.\n",
    "\n",
    "### Hypothesis 5 - Using a BERT model pre-trained on a domain-specific dataset \n",
    "To assess if such a domain-specific pre-training improve the can an improve performance we plan to replace the AutoTokenizer in the `BaseDataset` by one derived from `PubMedBERT` as reported by Gu et al (2022). Then we could run pre-training and pooled training with this tokenization."
   ]
  },
  {
   "cell_type": "markdown",
   "metadata": {
    "id": "SHMI2chl9omn"
   },
   "source": [
    "# References <a id=\"references\"></a>\n",
    "\n",
    "1.   Kyunghoon Hur, Jiyoung Lee, Jungwoo Oh, Wesley Price, Young-Hak Kim, and Edward Choi. Uni-\n",
    "fying Heterogeneous Electronic Health Records Systems via Text-Based Code Embedding, March 2022, arXiv:2108.03625, doi: 10.48550/arXiv.2108.03625.\n",
    "2. Pollard, Tom, et al. \"eICU Collaborative Research Database\" (version 2.0). PhysioNet (2019), https://doi.org/10.13026/C2WM1R.\n",
    "3. Johnson, Alistair, et al. \"MIMIC-III Clinical Database\" (version 1.4). PhysioNet (2016), https://doi.org/10.13026/C2XW26.\n",
    "4. Wornow, Michael, Yizhe Xu, Rahul Thapa, Birju Patel, Ethan Steinberg, Scott Fleming, Michael A. Pfeffer, Jason Fries, and Nigam H. Shah. \"The Shaky Foundations of Clinical Foundation Models: A Survey of Large Language Models and Foundation Models for EMRs.\" March 2023, arXiv:2303.12961, doi: 10.48550/arXiv.2303.12961.\n",
    "5. Gu, Yu, Robert Tinn, Hao Cheng, Michael Lucas, Naoto Usuyama, Xiaodong Liu, Tristan Naumann, Jianfeng Gao, and Hoifung Poon. \"Domain-Specific Language Model Pretraining for Biomedical Natural Language Processing.\" January 2022, arXiv:2007.15779, doi: 10.1145/3458754.\n",
    "\n"
   ]
  }
 ],
 "metadata": {
  "colab": {
   "private_outputs": true,
   "provenance": [],
   "toc_visible": true
  },
  "kernelspec": {
   "display_name": "Python 3 (ipykernel)",
   "language": "python",
   "name": "python3"
  },
  "language_info": {
   "codemirror_mode": {
    "name": "ipython",
    "version": 3
   },
   "file_extension": ".py",
   "mimetype": "text/x-python",
   "name": "python",
   "nbconvert_exporter": "python",
   "pygments_lexer": "ipython3",
   "version": "3.12.2"
  }
 },
 "nbformat": 4,
 "nbformat_minor": 1
}
