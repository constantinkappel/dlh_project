{
 "cells": [
  {
   "cell_type": "markdown",
   "metadata": {},
   "source": [
    "As found in the [previous notebook](01_Data_Exploration.ipynb), the column \"diagnosis\" is missing from the pkl files, because tokenization didn't run. Let's see by running some experiments using the author's code what files and columns are missing in particular. So, we can narrow down the problem and fix it."
   ]
  },
  {
   "cell_type": "markdown",
   "metadata": {},
   "source": [
    "## Imports"
   ]
  },
  {
   "cell_type": "code",
   "execution_count": 2,
   "metadata": {},
   "outputs": [],
   "source": [
    "import subprocess\n",
    "from pathlib import Path"
   ]
  },
  {
   "cell_type": "markdown",
   "metadata": {},
   "source": [
    "## Paths"
   ]
  },
  {
   "cell_type": "code",
   "execution_count": null,
   "metadata": {},
   "outputs": [],
   "source": []
  },
  {
   "cell_type": "markdown",
   "metadata": {},
   "source": [
    "## Experiments"
   ]
  },
  {
   "cell_type": "markdown",
   "metadata": {},
   "source": [
    "### Pretraining CodeEmb with word2vec"
   ]
  },
  {
   "cell_type": "code",
   "execution_count": null,
   "metadata": {},
   "outputs": [],
   "source": [
    "data = \n",
    "command = \"python main.py \\\n",
    "    --distributed_world_size $WORLDSIZE \\\n",
    "    --input_path /path/to/data \\\n",
    "    --src_data $data \\\n",
    "    --task w2v \\\n",
    "    --model codeemb\"\n",
    "subprocess.run(python -m torch.distributed.launch --nproc_per_node=4 --use_env main.py \\\n",
    "    --distributed_world_size 4 \\\n",
    "    --input_path /path/to/data \\\n",
    "    --src_data $data\\\n",
    "    --task w2v\\\n",
    "    --model codeemb)"
   ]
  }
 ],
 "metadata": {
  "kernelspec": {
   "display_name": ".venv",
   "language": "python",
   "name": "python3"
  },
  "language_info": {
   "codemirror_mode": {
    "name": "ipython",
    "version": 3
   },
   "file_extension": ".py",
   "mimetype": "text/x-python",
   "name": "python",
   "nbconvert_exporter": "python",
   "pygments_lexer": "ipython3",
   "version": "3.12.2"
  }
 },
 "nbformat": 4,
 "nbformat_minor": 2
}
