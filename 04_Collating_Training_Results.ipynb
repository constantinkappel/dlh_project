{
 "cells": [
  {
   "cell_type": "markdown",
   "metadata": {},
   "source": [
    "# Collating Traning Results"
   ]
  },
  {
   "cell_type": "markdown",
   "metadata": {},
   "source": [
    "The training results are parsed and summarized in this notebook"
   ]
  },
  {
   "cell_type": "code",
   "execution_count": 1,
   "metadata": {},
   "outputs": [],
   "source": [
    "import re\n",
    "import matplotlib.pyplot as plt\n",
    "import pandas as pd\n",
    "import numpy as np\n",
    "from pathlib import Path\n",
    "from typing import *"
   ]
  },
  {
   "cell_type": "markdown",
   "metadata": {},
   "source": [
    "### Get the hyperparameters from the training logs."
   ]
  },
  {
   "cell_type": "code",
   "execution_count": 2,
   "metadata": {},
   "outputs": [],
   "source": [
    "# Path to train.log\n",
    "path = \"outputs/2024-04-11/07-26-56/train.log\""
   ]
  },
  {
   "cell_type": "code",
   "execution_count": 3,
   "metadata": {},
   "outputs": [],
   "source": [
    "def read_log(path: Union[str, Path]):\n",
    "    with open(path, \"r\") as f:\n",
    "        lines = f.readlines()\n",
    "    return lines"
   ]
  },
  {
   "cell_type": "code",
   "execution_count": 4,
   "metadata": {},
   "outputs": [],
   "source": [
    "train_log = read_log(path)"
   ]
  },
  {
   "cell_type": "code",
   "execution_count": 5,
   "metadata": {},
   "outputs": [],
   "source": [
    "tokens = ['src_data', 'model', 'embed_model', 'value_mode', 'task', 'transfer']"
   ]
  },
  {
   "cell_type": "code",
   "execution_count": 6,
   "metadata": {},
   "outputs": [],
   "source": [
    "def create_pattern(token: str):\n",
    "    return re.compile(r\"'{}': '(\\w+)'\".format(token))"
   ]
  },
  {
   "cell_type": "code",
   "execution_count": 7,
   "metadata": {},
   "outputs": [],
   "source": [
    "def parse_log(train_log: List[str], tokens: List[str]):\n",
    "    hyperparams = {}\n",
    "    for line in train_log:\n",
    "        for tok in tokens:\n",
    "            pattern = create_pattern(tok)\n",
    "            match = pattern.search(line)\n",
    "            if match:\n",
    "                #print(match.group(1))\n",
    "                hyperparams[tok] = match.group(1)\n",
    "    return hyperparams\n"
   ]
  },
  {
   "cell_type": "code",
   "execution_count": 8,
   "metadata": {},
   "outputs": [],
   "source": [
    "hyperparams = parse_log(train_log, tokens)"
   ]
  },
  {
   "cell_type": "code",
   "execution_count": 9,
   "metadata": {},
   "outputs": [],
   "source": [
    "def get_trainlog_paths(root: Union[str, Path]):\n",
    "    root = Path(root)\n",
    "    return list(root.glob(\"*/*/train.log\"))"
   ]
  },
  {
   "cell_type": "code",
   "execution_count": null,
   "metadata": {},
   "outputs": [],
   "source": [
    "def get_last_auprc(train_log: List[str], patterns: Dict[str, re.Pattern]):\n",
    "    for line in train_log[::-1]:\n",
    "        hit = patterns['auprc'].search(line)\n",
    "        if hit:\n",
    "            return hit.group(1)"
   ]
  },
  {
   "cell_type": "code",
   "execution_count": null,
   "metadata": {},
   "outputs": [],
   "source": [
    "def create_pattern_numerical(token: str):\n",
    "    return re.compile(r\"{}: (\\d+(\\.\\d+)?)\".format(token))"
   ]
  },
  {
   "cell_type": "code",
   "execution_count": null,
   "metadata": {},
   "outputs": [],
   "source": [
    "metrics = ['epoch','auroc', 'auprc', 'loss']\n",
    "# create a pattern dictionay with the metrics as keys\n",
    "patterns = {metric: create_pattern_numerical(metric) for metric in metrics}"
   ]
  },
  {
   "cell_type": "code",
   "execution_count": 53,
   "metadata": {},
   "outputs": [],
   "source": [
    "def parse_experiment(root: Union[str, Path], tokens: List[str], patterns: Dict[str, re.Pattern]=None):\n",
    "    l_trainlogs = get_trainlog_paths(root)\n",
    "    df = pd.DataFrame()\n",
    "    for log in l_trainlogs:\n",
    "        train_log = read_log(log)\n",
    "        hyperparams = parse_log(train_log, tokens)\n",
    "        run = log.parent.name\n",
    "        hyperparams['run'] = log.parent#/run\n",
    "        if \"done training\" in train_log[-1]:\n",
    "            hyperparams['done'] = True\n",
    "        else:\n",
    "            hyperparams['done'] = False\n",
    "        if patterns:\n",
    "            hyperparams['auprc'] = get_last_auprc(train_log, patterns)\n",
    "        df = pd.concat([df, pd.DataFrame(hyperparams, index=[0])])\n",
    "    if patterns:\n",
    "        df['auprc'] = df['auprc'].astype(float)\n",
    "        order = ['run', 'done', 'src_data', 'task', 'embed_model', 'model', 'value_mode', 'auprc']\n",
    "    else:\n",
    "        order = ['run', 'done', 'src_data', 'task', 'embed_model', 'model', 'value_mode']\n",
    "    return df[order]"
   ]
  },
  {
   "cell_type": "code",
   "execution_count": 54,
   "metadata": {},
   "outputs": [],
   "source": [
    "df_experiments = parse_experiment(\"outputs\", tokens, patterns)"
   ]
  },
  {
   "cell_type": "code",
   "execution_count": 55,
   "metadata": {},
   "outputs": [
    {
     "data": {
      "text/html": [
       "<div>\n",
       "<style scoped>\n",
       "    .dataframe tbody tr th:only-of-type {\n",
       "        vertical-align: middle;\n",
       "    }\n",
       "\n",
       "    .dataframe tbody tr th {\n",
       "        vertical-align: top;\n",
       "    }\n",
       "\n",
       "    .dataframe thead th {\n",
       "        text-align: right;\n",
       "    }\n",
       "</style>\n",
       "<table border=\"1\" class=\"dataframe\">\n",
       "  <thead>\n",
       "    <tr style=\"text-align: right;\">\n",
       "      <th></th>\n",
       "      <th>run</th>\n",
       "      <th>done</th>\n",
       "      <th>src_data</th>\n",
       "      <th>task</th>\n",
       "      <th>embed_model</th>\n",
       "      <th>model</th>\n",
       "      <th>value_mode</th>\n",
       "      <th>auprc</th>\n",
       "    </tr>\n",
       "  </thead>\n",
       "  <tbody>\n",
       "    <tr>\n",
       "      <th>0</th>\n",
       "      <td>outputs/2024-04-13/07-13-12</td>\n",
       "      <td>False</td>\n",
       "      <td>mimiciii</td>\n",
       "      <td>mlm</td>\n",
       "      <td>NaN</td>\n",
       "      <td>descemb_rnn</td>\n",
       "      <td>NV</td>\n",
       "      <td>NaN</td>\n",
       "    </tr>\n",
       "    <tr>\n",
       "      <th>0</th>\n",
       "      <td>outputs/2024-04-13/07-13-22</td>\n",
       "      <td>False</td>\n",
       "      <td>eicu</td>\n",
       "      <td>mlm</td>\n",
       "      <td>NaN</td>\n",
       "      <td>descemb_rnn</td>\n",
       "      <td>NV</td>\n",
       "      <td>NaN</td>\n",
       "    </tr>\n",
       "    <tr>\n",
       "      <th>0</th>\n",
       "      <td>outputs/2024-04-13/07-17-36</td>\n",
       "      <td>False</td>\n",
       "      <td>mimiciii</td>\n",
       "      <td>mlm</td>\n",
       "      <td>NaN</td>\n",
       "      <td>descemb_rnn</td>\n",
       "      <td>NV</td>\n",
       "      <td>NaN</td>\n",
       "    </tr>\n",
       "    <tr>\n",
       "      <th>0</th>\n",
       "      <td>outputs/2024-04-13/07-26-31</td>\n",
       "      <td>False</td>\n",
       "      <td>mimiciii</td>\n",
       "      <td>mlm</td>\n",
       "      <td>NaN</td>\n",
       "      <td>descemb_rnn</td>\n",
       "      <td>NV</td>\n",
       "      <td>NaN</td>\n",
       "    </tr>\n",
       "    <tr>\n",
       "      <th>0</th>\n",
       "      <td>outputs/2024-04-13/07-44-35</td>\n",
       "      <td>False</td>\n",
       "      <td>mimiciii</td>\n",
       "      <td>mlm</td>\n",
       "      <td>NaN</td>\n",
       "      <td>descemb_rnn</td>\n",
       "      <td>NV</td>\n",
       "      <td>NaN</td>\n",
       "    </tr>\n",
       "  </tbody>\n",
       "</table>\n",
       "</div>"
      ],
      "text/plain": [
       "                           run   done  src_data task embed_model        model  \\\n",
       "0  outputs/2024-04-13/07-13-12  False  mimiciii  mlm         NaN  descemb_rnn   \n",
       "0  outputs/2024-04-13/07-13-22  False      eicu  mlm         NaN  descemb_rnn   \n",
       "0  outputs/2024-04-13/07-17-36  False  mimiciii  mlm         NaN  descemb_rnn   \n",
       "0  outputs/2024-04-13/07-26-31  False  mimiciii  mlm         NaN  descemb_rnn   \n",
       "0  outputs/2024-04-13/07-44-35  False  mimiciii  mlm         NaN  descemb_rnn   \n",
       "\n",
       "  value_mode  auprc  \n",
       "0         NV    NaN  \n",
       "0         NV    NaN  \n",
       "0         NV    NaN  \n",
       "0         NV    NaN  \n",
       "0         NV    NaN  "
      ]
     },
     "execution_count": 55,
     "metadata": {},
     "output_type": "execute_result"
    }
   ],
   "source": [
    "df_experiments.head(5)"
   ]
  },
  {
   "cell_type": "code",
   "execution_count": 57,
   "metadata": {},
   "outputs": [],
   "source": [
    "df_experiments.to_excel(\"outputs/experiments.xlsx\", index=False)"
   ]
  },
  {
   "cell_type": "markdown",
   "metadata": {},
   "source": [
    "### Parsing the train.log file for metrics"
   ]
  },
  {
   "cell_type": "code",
   "execution_count": 16,
   "metadata": {},
   "outputs": [],
   "source": [
    "def extract_metrics(line: str, df_metrics: pd.DataFrame, patterns: Dict[str, re.Pattern], fold: str):\n",
    "    epoch = patterns['epoch'].search(line).group(1)\n",
    "    loss = patterns['loss'].search(line).group(1)\n",
    "    auroc = patterns['auroc'].search(line).group(1)\n",
    "    auprc = patterns['auprc'].search(line).group(1)\n",
    "    df = pd.DataFrame({'fold': fold, 'epoch': int(epoch), 'loss': float(loss), 'auroc': float(auroc), 'auprc': float(auprc)}, index=[0])\n",
    "    df_metrics = pd.concat([df_metrics, df])\n",
    "    return df_metrics\n",
    "\n",
    "df_metrics = pd.DataFrame(columns=['run', 'fold', ]+metrics)"
   ]
  },
  {
   "cell_type": "code",
   "execution_count": 48,
   "metadata": {},
   "outputs": [
    {
     "data": {
      "text/plain": [
       "'0.089'"
      ]
     },
     "execution_count": 48,
     "metadata": {},
     "output_type": "execute_result"
    }
   ],
   "source": [
    "get_last_auprc(train_log, patterns)"
   ]
  },
  {
   "cell_type": "code",
   "execution_count": 17,
   "metadata": {},
   "outputs": [],
   "source": [
    "def parse_experiment_metrics(root: Union[str, Path], patterns: Dict[str, re.Pattern]):\n",
    "    l_trainlogs = get_trainlog_paths(root)\n",
    "    df_metrics = pd.DataFrame(columns=['run', 'fold', 'epoch', 'loss', 'auroc', 'auprc'])\n",
    "    for log in l_trainlogs:\n",
    "        train_log = read_log(log)\n",
    "        run = log.parent\n",
    "        for line in train_log:\n",
    "            if \"[INFO]\" in line:\n",
    "                if \"[train]\" in line:\n",
    "                    df_metrics = extract_metrics(line, df_metrics, patterns, \"train\")\n",
    "                    df_metrics['run'] = run\n",
    "                elif \"[valid]\" in line:\n",
    "                    df_metrics = extract_metrics(line, df_metrics, patterns, \"valid\")\n",
    "                    df_metrics['run'] = run\n",
    "                elif \"[test]\" in line:\n",
    "                    df_metrics = extract_metrics(line, df_metrics, patterns, \"test\")\n",
    "                    df_metrics['run'] = run\n",
    "    return df_metrics"
   ]
  },
  {
   "cell_type": "code",
   "execution_count": 18,
   "metadata": {},
   "outputs": [],
   "source": [
    "df_metrics = parse_experiment_metrics(\"outputs\", patterns)"
   ]
  },
  {
   "cell_type": "code",
   "execution_count": 21,
   "metadata": {},
   "outputs": [
    {
     "data": {
      "text/plain": [
       "array([PosixPath('outputs/2024-04-11/07-26-56')], dtype=object)"
      ]
     },
     "execution_count": 21,
     "metadata": {},
     "output_type": "execute_result"
    }
   ],
   "source": [
    "df_metrics.run.unique()"
   ]
  },
  {
   "cell_type": "code",
   "execution_count": 23,
   "metadata": {},
   "outputs": [
    {
     "data": {
      "text/plain": [
       "3028"
      ]
     },
     "execution_count": 23,
     "metadata": {},
     "output_type": "execute_result"
    }
   ],
   "source": [
    "len(df_metrics)"
   ]
  },
  {
   "cell_type": "code",
   "execution_count": 24,
   "metadata": {},
   "outputs": [
    {
     "data": {
      "text/html": [
       "<div>\n",
       "<style scoped>\n",
       "    .dataframe tbody tr th:only-of-type {\n",
       "        vertical-align: middle;\n",
       "    }\n",
       "\n",
       "    .dataframe tbody tr th {\n",
       "        vertical-align: top;\n",
       "    }\n",
       "\n",
       "    .dataframe thead th {\n",
       "        text-align: right;\n",
       "    }\n",
       "</style>\n",
       "<table border=\"1\" class=\"dataframe\">\n",
       "  <thead>\n",
       "    <tr style=\"text-align: right;\">\n",
       "      <th></th>\n",
       "      <th>run</th>\n",
       "      <th>fold</th>\n",
       "      <th>epoch</th>\n",
       "      <th>loss</th>\n",
       "      <th>auroc</th>\n",
       "      <th>auprc</th>\n",
       "    </tr>\n",
       "  </thead>\n",
       "  <tbody>\n",
       "    <tr>\n",
       "      <th>0</th>\n",
       "      <td>outputs/2024-04-11/07-26-56</td>\n",
       "      <td>train</td>\n",
       "      <td>1</td>\n",
       "      <td>0.654</td>\n",
       "      <td>0.509</td>\n",
       "      <td>0.045</td>\n",
       "    </tr>\n",
       "    <tr>\n",
       "      <th>0</th>\n",
       "      <td>outputs/2024-04-11/07-26-56</td>\n",
       "      <td>train</td>\n",
       "      <td>1</td>\n",
       "      <td>0.654</td>\n",
       "      <td>0.509</td>\n",
       "      <td>0.045</td>\n",
       "    </tr>\n",
       "    <tr>\n",
       "      <th>0</th>\n",
       "      <td>outputs/2024-04-11/07-26-56</td>\n",
       "      <td>valid</td>\n",
       "      <td>1</td>\n",
       "      <td>0.647</td>\n",
       "      <td>0.502</td>\n",
       "      <td>0.045</td>\n",
       "    </tr>\n",
       "    <tr>\n",
       "      <th>0</th>\n",
       "      <td>outputs/2024-04-11/07-26-56</td>\n",
       "      <td>test</td>\n",
       "      <td>1</td>\n",
       "      <td>1.462</td>\n",
       "      <td>0.505</td>\n",
       "      <td>0.043</td>\n",
       "    </tr>\n",
       "    <tr>\n",
       "      <th>0</th>\n",
       "      <td>outputs/2024-04-11/07-26-56</td>\n",
       "      <td>train</td>\n",
       "      <td>2</td>\n",
       "      <td>0.645</td>\n",
       "      <td>0.509</td>\n",
       "      <td>0.045</td>\n",
       "    </tr>\n",
       "    <tr>\n",
       "      <th>...</th>\n",
       "      <td>...</td>\n",
       "      <td>...</td>\n",
       "      <td>...</td>\n",
       "      <td>...</td>\n",
       "      <td>...</td>\n",
       "      <td>...</td>\n",
       "    </tr>\n",
       "    <tr>\n",
       "      <th>0</th>\n",
       "      <td>outputs/2024-04-11/07-26-56</td>\n",
       "      <td>valid</td>\n",
       "      <td>5</td>\n",
       "      <td>0.622</td>\n",
       "      <td>0.503</td>\n",
       "      <td>0.045</td>\n",
       "    </tr>\n",
       "    <tr>\n",
       "      <th>0</th>\n",
       "      <td>outputs/2024-04-11/07-26-56</td>\n",
       "      <td>test</td>\n",
       "      <td>5</td>\n",
       "      <td>1.404</td>\n",
       "      <td>0.504</td>\n",
       "      <td>0.043</td>\n",
       "    </tr>\n",
       "    <tr>\n",
       "      <th>0</th>\n",
       "      <td>outputs/2024-04-11/07-26-56</td>\n",
       "      <td>train</td>\n",
       "      <td>6</td>\n",
       "      <td>0.619</td>\n",
       "      <td>0.509</td>\n",
       "      <td>0.045</td>\n",
       "    </tr>\n",
       "    <tr>\n",
       "      <th>0</th>\n",
       "      <td>outputs/2024-04-11/07-26-56</td>\n",
       "      <td>valid</td>\n",
       "      <td>6</td>\n",
       "      <td>0.618</td>\n",
       "      <td>0.502</td>\n",
       "      <td>0.045</td>\n",
       "    </tr>\n",
       "    <tr>\n",
       "      <th>0</th>\n",
       "      <td>outputs/2024-04-11/07-26-56</td>\n",
       "      <td>test</td>\n",
       "      <td>6</td>\n",
       "      <td>1.396</td>\n",
       "      <td>0.504</td>\n",
       "      <td>0.043</td>\n",
       "    </tr>\n",
       "  </tbody>\n",
       "</table>\n",
       "<p>100 rows × 6 columns</p>\n",
       "</div>"
      ],
      "text/plain": [
       "                            run   fold epoch   loss  auroc  auprc\n",
       "0   outputs/2024-04-11/07-26-56  train     1  0.654  0.509  0.045\n",
       "0   outputs/2024-04-11/07-26-56  train     1  0.654  0.509  0.045\n",
       "0   outputs/2024-04-11/07-26-56  valid     1  0.647  0.502  0.045\n",
       "0   outputs/2024-04-11/07-26-56   test     1  1.462  0.505  0.043\n",
       "0   outputs/2024-04-11/07-26-56  train     2  0.645  0.509  0.045\n",
       "..                          ...    ...   ...    ...    ...    ...\n",
       "0   outputs/2024-04-11/07-26-56  valid     5  0.622  0.503  0.045\n",
       "0   outputs/2024-04-11/07-26-56   test     5  1.404  0.504  0.043\n",
       "0   outputs/2024-04-11/07-26-56  train     6  0.619  0.509  0.045\n",
       "0   outputs/2024-04-11/07-26-56  valid     6  0.618  0.502  0.045\n",
       "0   outputs/2024-04-11/07-26-56   test     6  1.396  0.504  0.043\n",
       "\n",
       "[100 rows x 6 columns]"
      ]
     },
     "execution_count": 24,
     "metadata": {},
     "output_type": "execute_result"
    }
   ],
   "source": [
    "df_metrics.head(100)"
   ]
  },
  {
   "cell_type": "code",
   "execution_count": 58,
   "metadata": {},
   "outputs": [],
   "source": [
    "df_metrics.to_excel(\"outputs/metrics.xlsx\", index=False)"
   ]
  },
  {
   "cell_type": "code",
   "execution_count": null,
   "metadata": {},
   "outputs": [],
   "source": [
    "def plot_metrics(df_metrics: pd.DataFrame, run: str):\n",
    "    fig, ax = plt.subplots()\n",
    "    for fold in ['train', 'valid', 'test']:\n",
    "        df_metrics.loc[(df_metrics['fold']==fold) & (df_metrics['run']==run)].plot(x='epoch', y='loss', ax=ax, label=fold)\n",
    "    plt.title(run)\n",
    "    plt.show()"
   ]
  },
  {
   "cell_type": "code",
   "execution_count": null,
   "metadata": {},
   "outputs": [],
   "source": []
  }
 ],
 "metadata": {
  "kernelspec": {
   "display_name": ".venv",
   "language": "python",
   "name": "python3"
  },
  "language_info": {
   "codemirror_mode": {
    "name": "ipython",
    "version": 3
   },
   "file_extension": ".py",
   "mimetype": "text/x-python",
   "name": "python",
   "nbconvert_exporter": "python",
   "pygments_lexer": "ipython3",
   "version": "3.12.2"
  }
 },
 "nbformat": 4,
 "nbformat_minor": 2
}
