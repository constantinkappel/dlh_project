{
 "cells": [
  {
   "cell_type": "markdown",
   "metadata": {},
   "source": [
    "Data was preprocessed using the `DescEmb/preprocessing/preprocessing_main.py` script by the authors of the original paper. Let's explore the .pkl files and find a sensible way to load them. Preferably, loading should be done using the `pyhealth` library."
   ]
  },
  {
   "cell_type": "markdown",
   "metadata": {},
   "source": [
    "## Imports"
   ]
  },
  {
   "cell_type": "code",
   "execution_count": 1,
   "metadata": {},
   "outputs": [],
   "source": [
    "import numpy as np\n",
    "import pandas as pd\n",
    "import pickle\n",
    "from pathlib import Path\n",
    "import pyhealth"
   ]
  },
  {
   "cell_type": "markdown",
   "metadata": {},
   "source": [
    "## Data"
   ]
  },
  {
   "cell_type": "code",
   "execution_count": 2,
   "metadata": {},
   "outputs": [],
   "source": [
    "storage_path = Path(\"/data/DescEmb\")\n",
    "# Load and unpickle the data\n",
    "with open(storage_path / \"eicu_df.pkl\", \"rb\") as f:\n",
    "    eicu = pickle.load(f)\n",
    "with open(storage_path/ \"mimic_df.pkl\", \"rb\") as f:\n",
    "    mimic = pickle.load(f)\n",
    "with open(storage_path/\"pooled_df.pkl\", \"rb\") as f:\n",
    "    pooled = pickle.load(f)"
   ]
  },
  {
   "cell_type": "code",
   "execution_count": 3,
   "metadata": {},
   "outputs": [
    {
     "data": {
      "text/html": [
       "<div>\n",
       "<style scoped>\n",
       "    .dataframe tbody tr th:only-of-type {\n",
       "        vertical-align: middle;\n",
       "    }\n",
       "\n",
       "    .dataframe tbody tr th {\n",
       "        vertical-align: top;\n",
       "    }\n",
       "\n",
       "    .dataframe thead th {\n",
       "        text-align: right;\n",
       "    }\n",
       "</style>\n",
       "<table border=\"1\" class=\"dataframe\">\n",
       "  <thead>\n",
       "    <tr style=\"text-align: right;\">\n",
       "      <th></th>\n",
       "      <th>patienthealthsystemstayid</th>\n",
       "      <th>gender</th>\n",
       "      <th>age</th>\n",
       "      <th>ethnicity</th>\n",
       "      <th>hospitalid</th>\n",
       "      <th>wardid</th>\n",
       "      <th>apacheadmissiondx</th>\n",
       "      <th>admissionheight</th>\n",
       "      <th>hospitaladmittime24</th>\n",
       "      <th>hospitaladmitoffset</th>\n",
       "      <th>...</th>\n",
       "      <th>los_3day</th>\n",
       "      <th>los_7day</th>\n",
       "      <th>diagnosisstring</th>\n",
       "      <th>ID</th>\n",
       "      <th>code_name</th>\n",
       "      <th>code_offset</th>\n",
       "      <th>value</th>\n",
       "      <th>uom</th>\n",
       "      <th>code_order</th>\n",
       "      <th>seq_len</th>\n",
       "    </tr>\n",
       "  </thead>\n",
       "  <tbody>\n",
       "    <tr>\n",
       "      <th>0</th>\n",
       "      <td>128919</td>\n",
       "      <td>Female</td>\n",
       "      <td>70</td>\n",
       "      <td>Caucasian</td>\n",
       "      <td>59</td>\n",
       "      <td>91</td>\n",
       "      <td>Rhythm disturbance (atrial, supraventricular)</td>\n",
       "      <td>152.4</td>\n",
       "      <td>15:54:00</td>\n",
       "      <td>0</td>\n",
       "      <td>...</td>\n",
       "      <td>0</td>\n",
       "      <td>0</td>\n",
       "      <td>[cardiovascular|chest pain / ASHD|coronary art...</td>\n",
       "      <td>141168</td>\n",
       "      <td>[PT, PT - INR, PTT, platelets x 1000, -eos, WB...</td>\n",
       "      <td>[231, 231, 231, 516, 516, 516, 516, 516, 516, ...</td>\n",
       "      <td>[17.1, 1.7, 29.0, 209.0, 1.0, 9.8, 3.1, 19.0, ...</td>\n",
       "      <td>[sec, ratio, sec, K/mcL, %, K/mcL, g/dL, %,  ,...</td>\n",
       "      <td>[2, 2, 2, 0, 0, 0, 0, 0, 0, 0, 0, 0, 0, 0, 0, ...</td>\n",
       "      <td>137</td>\n",
       "    </tr>\n",
       "    <tr>\n",
       "      <th>1</th>\n",
       "      <td>128941</td>\n",
       "      <td>Male</td>\n",
       "      <td>68</td>\n",
       "      <td>Caucasian</td>\n",
       "      <td>73</td>\n",
       "      <td>92</td>\n",
       "      <td>Sepsis, renal/UTI (including bladder)</td>\n",
       "      <td>180.3</td>\n",
       "      <td>18:18:40</td>\n",
       "      <td>-780</td>\n",
       "      <td>...</td>\n",
       "      <td>1</td>\n",
       "      <td>0</td>\n",
       "      <td>NaN</td>\n",
       "      <td>141194</td>\n",
       "      <td>[creatinine, PT, AST (SGOT), platelets x 1000,...</td>\n",
       "      <td>[-923, -923, -923, -923, -923, -923, -923, -92...</td>\n",
       "      <td>[2.94, 12.1, 15.0, 298.0, 9.8, 15.7, 9.9, 0.1,...</td>\n",
       "      <td>[mg/dL, sec, Units/L, K/mcL, g/dL, %, mg/dL, m...</td>\n",
       "      <td>[50, 50, 50, 50, 50, 50, 50, 50, 50, 50, 50, 5...</td>\n",
       "      <td>325</td>\n",
       "    </tr>\n",
       "    <tr>\n",
       "      <th>2</th>\n",
       "      <td>128948</td>\n",
       "      <td>Female</td>\n",
       "      <td>77</td>\n",
       "      <td>Caucasian</td>\n",
       "      <td>66</td>\n",
       "      <td>90</td>\n",
       "      <td>Arrest, respiratory (without cardiac arrest)</td>\n",
       "      <td>160.0</td>\n",
       "      <td>22:23:00</td>\n",
       "      <td>-1336</td>\n",
       "      <td>...</td>\n",
       "      <td>0</td>\n",
       "      <td>0</td>\n",
       "      <td>[infectious diseases|skin, bone and joint infe...</td>\n",
       "      <td>141203</td>\n",
       "      <td>[urinary specific gravity, chloride, creatinin...</td>\n",
       "      <td>[-1637, -1580, -1580, -1580, -1580, -1580, -15...</td>\n",
       "      <td>[1.026, 102.0, 0.33, 20.0, 6.6, 30.0, 31.4, 4....</td>\n",
       "      <td>[ , mmol/L, mg/dL, Units/L, g/dL, mmol/L, g/dL...</td>\n",
       "      <td>[7, 5, 5, 5, 5, 5, 5, 5, 5, 5, 5, 5, 5, 5, 5, ...</td>\n",
       "      <td>137</td>\n",
       "    </tr>\n",
       "    <tr>\n",
       "      <th>3</th>\n",
       "      <td>128968</td>\n",
       "      <td>Male</td>\n",
       "      <td>82</td>\n",
       "      <td>Caucasian</td>\n",
       "      <td>60</td>\n",
       "      <td>83</td>\n",
       "      <td>Sepsis, pulmonary</td>\n",
       "      <td>185.4</td>\n",
       "      <td>19:19:00</td>\n",
       "      <td>-1004</td>\n",
       "      <td>...</td>\n",
       "      <td>0</td>\n",
       "      <td>0</td>\n",
       "      <td>[cardiovascular|shock / hypotension|sepsis]</td>\n",
       "      <td>141227</td>\n",
       "      <td>[urinary specific gravity, -eos, Hgb, potassiu...</td>\n",
       "      <td>[-2188, -1566, -1566, -1566, -1566, -1566, -15...</td>\n",
       "      <td>[1.025, 1.0, 8.0, 4.2, 134.0, 130.0, 48.2, 31....</td>\n",
       "      <td>[ , %, g/dL, mmol/L, mmol/L, mg/dL, K/mcL, mg/...</td>\n",
       "      <td>[9, 2, 2, 2, 2, 2, 2, 2, 2, 2, 2, 2, 2, 2, 2, ...</td>\n",
       "      <td>141</td>\n",
       "    </tr>\n",
       "    <tr>\n",
       "      <th>4</th>\n",
       "      <td>128973</td>\n",
       "      <td>Female</td>\n",
       "      <td>81</td>\n",
       "      <td>Caucasian</td>\n",
       "      <td>73</td>\n",
       "      <td>92</td>\n",
       "      <td>Mitral valve replacement</td>\n",
       "      <td>165.1</td>\n",
       "      <td>17:27:13</td>\n",
       "      <td>-1</td>\n",
       "      <td>...</td>\n",
       "      <td>1</td>\n",
       "      <td>1</td>\n",
       "      <td>NaN</td>\n",
       "      <td>141233</td>\n",
       "      <td>[ONDANSETRON 4 MG PO TBDP, O2 Sat (%), HCO3, T...</td>\n",
       "      <td>[-435, -355, -355, -355, -355, -355, -355, -35...</td>\n",
       "      <td>[3.0, 98.0, 23.0, 24.0, 2.0, 7.4, 37.0, 127.0,...</td>\n",
       "      <td>[ , %, mmol/L,  , mEq/L,  , mm Hg, mm Hg, mm H...</td>\n",
       "      <td>[18, 41, 41, 41, 41, 41, 41, 41, 63, 63, 63, 6...</td>\n",
       "      <td>555</td>\n",
       "    </tr>\n",
       "  </tbody>\n",
       "</table>\n",
       "<p>5 rows × 41 columns</p>\n",
       "</div>"
      ],
      "text/plain": [
       "   patienthealthsystemstayid  gender age  ethnicity  hospitalid  wardid  \\\n",
       "0                     128919  Female  70  Caucasian          59      91   \n",
       "1                     128941    Male  68  Caucasian          73      92   \n",
       "2                     128948  Female  77  Caucasian          66      90   \n",
       "3                     128968    Male  82  Caucasian          60      83   \n",
       "4                     128973  Female  81  Caucasian          73      92   \n",
       "\n",
       "                               apacheadmissiondx  admissionheight  \\\n",
       "0  Rhythm disturbance (atrial, supraventricular)            152.4   \n",
       "1          Sepsis, renal/UTI (including bladder)            180.3   \n",
       "2   Arrest, respiratory (without cardiac arrest)            160.0   \n",
       "3                              Sepsis, pulmonary            185.4   \n",
       "4                       Mitral valve replacement            165.1   \n",
       "\n",
       "  hospitaladmittime24  hospitaladmitoffset  ... los_3day  los_7day  \\\n",
       "0            15:54:00                    0  ...        0         0   \n",
       "1            18:18:40                 -780  ...        1         0   \n",
       "2            22:23:00                -1336  ...        0         0   \n",
       "3            19:19:00                -1004  ...        0         0   \n",
       "4            17:27:13                   -1  ...        1         1   \n",
       "\n",
       "                                     diagnosisstring      ID  \\\n",
       "0  [cardiovascular|chest pain / ASHD|coronary art...  141168   \n",
       "1                                                NaN  141194   \n",
       "2  [infectious diseases|skin, bone and joint infe...  141203   \n",
       "3        [cardiovascular|shock / hypotension|sepsis]  141227   \n",
       "4                                                NaN  141233   \n",
       "\n",
       "                                           code_name  \\\n",
       "0  [PT, PT - INR, PTT, platelets x 1000, -eos, WB...   \n",
       "1  [creatinine, PT, AST (SGOT), platelets x 1000,...   \n",
       "2  [urinary specific gravity, chloride, creatinin...   \n",
       "3  [urinary specific gravity, -eos, Hgb, potassiu...   \n",
       "4  [ONDANSETRON 4 MG PO TBDP, O2 Sat (%), HCO3, T...   \n",
       "\n",
       "                                         code_offset  \\\n",
       "0  [231, 231, 231, 516, 516, 516, 516, 516, 516, ...   \n",
       "1  [-923, -923, -923, -923, -923, -923, -923, -92...   \n",
       "2  [-1637, -1580, -1580, -1580, -1580, -1580, -15...   \n",
       "3  [-2188, -1566, -1566, -1566, -1566, -1566, -15...   \n",
       "4  [-435, -355, -355, -355, -355, -355, -355, -35...   \n",
       "\n",
       "                                               value  \\\n",
       "0  [17.1, 1.7, 29.0, 209.0, 1.0, 9.8, 3.1, 19.0, ...   \n",
       "1  [2.94, 12.1, 15.0, 298.0, 9.8, 15.7, 9.9, 0.1,...   \n",
       "2  [1.026, 102.0, 0.33, 20.0, 6.6, 30.0, 31.4, 4....   \n",
       "3  [1.025, 1.0, 8.0, 4.2, 134.0, 130.0, 48.2, 31....   \n",
       "4  [3.0, 98.0, 23.0, 24.0, 2.0, 7.4, 37.0, 127.0,...   \n",
       "\n",
       "                                                 uom  \\\n",
       "0  [sec, ratio, sec, K/mcL, %, K/mcL, g/dL, %,  ,...   \n",
       "1  [mg/dL, sec, Units/L, K/mcL, g/dL, %, mg/dL, m...   \n",
       "2  [ , mmol/L, mg/dL, Units/L, g/dL, mmol/L, g/dL...   \n",
       "3  [ , %, g/dL, mmol/L, mmol/L, mg/dL, K/mcL, mg/...   \n",
       "4  [ , %, mmol/L,  , mEq/L,  , mm Hg, mm Hg, mm H...   \n",
       "\n",
       "                                          code_order  seq_len  \n",
       "0  [2, 2, 2, 0, 0, 0, 0, 0, 0, 0, 0, 0, 0, 0, 0, ...      137  \n",
       "1  [50, 50, 50, 50, 50, 50, 50, 50, 50, 50, 50, 5...      325  \n",
       "2  [7, 5, 5, 5, 5, 5, 5, 5, 5, 5, 5, 5, 5, 5, 5, ...      137  \n",
       "3  [9, 2, 2, 2, 2, 2, 2, 2, 2, 2, 2, 2, 2, 2, 2, ...      141  \n",
       "4  [18, 41, 41, 41, 41, 41, 41, 41, 63, 63, 63, 6...      555  \n",
       "\n",
       "[5 rows x 41 columns]"
      ]
     },
     "execution_count": 3,
     "metadata": {},
     "output_type": "execute_result"
    }
   ],
   "source": [
    "eicu.head()"
   ]
  },
  {
   "cell_type": "code",
   "execution_count": 4,
   "metadata": {},
   "outputs": [
    {
     "data": {
      "text/html": [
       "<div>\n",
       "<style scoped>\n",
       "    .dataframe tbody tr th:only-of-type {\n",
       "        vertical-align: middle;\n",
       "    }\n",
       "\n",
       "    .dataframe tbody tr th {\n",
       "        vertical-align: top;\n",
       "    }\n",
       "\n",
       "    .dataframe thead th {\n",
       "        text-align: right;\n",
       "    }\n",
       "</style>\n",
       "<table border=\"1\" class=\"dataframe\">\n",
       "  <thead>\n",
       "    <tr style=\"text-align: right;\">\n",
       "      <th></th>\n",
       "      <th>SUBJECT_ID</th>\n",
       "      <th>ICUSTAY_ID</th>\n",
       "      <th>DBSOURCE</th>\n",
       "      <th>FIRST_CAREUNIT</th>\n",
       "      <th>LAST_CAREUNIT</th>\n",
       "      <th>FIRST_WARDID</th>\n",
       "      <th>LAST_WARDID</th>\n",
       "      <th>INTIME</th>\n",
       "      <th>OUTTIME</th>\n",
       "      <th>LOS</th>\n",
       "      <th>...</th>\n",
       "      <th>ICD9_CODE</th>\n",
       "      <th>12h_obs</th>\n",
       "      <th>24h_obs</th>\n",
       "      <th>ID</th>\n",
       "      <th>code_name</th>\n",
       "      <th>code_offset</th>\n",
       "      <th>value</th>\n",
       "      <th>uom</th>\n",
       "      <th>code_order</th>\n",
       "      <th>seq_len</th>\n",
       "    </tr>\n",
       "  </thead>\n",
       "  <tbody>\n",
       "    <tr>\n",
       "      <th>0</th>\n",
       "      <td>58526</td>\n",
       "      <td>275225</td>\n",
       "      <td>metavision</td>\n",
       "      <td>MICU</td>\n",
       "      <td>MICU</td>\n",
       "      <td>52</td>\n",
       "      <td>52</td>\n",
       "      <td>2117-09-11 11:47:35</td>\n",
       "      <td>2117-09-15 17:57:14</td>\n",
       "      <td>4.2567</td>\n",
       "      <td>...</td>\n",
       "      <td>[25013, 3371, 5849, 5780, V5867, 25063, 5363, ...</td>\n",
       "      <td>2117-09-11 23:47:35</td>\n",
       "      <td>2117-09-12 11:47:35</td>\n",
       "      <td>100001</td>\n",
       "      <td>[Sodium, Potassium, Phosphate, Calcium, Total,...</td>\n",
       "      <td>[182, 182, 182, 182, 182, 182, 403, 403, 403, ...</td>\n",
       "      <td>[143.0, 4.2, 3.4, 8.7, 20.0, 1.9, 16.0, 9.0, 2...</td>\n",
       "      <td>[mEq/L, mEq/L, mg/dL, mg/dL, mEq/L, mg/dL, mEq...</td>\n",
       "      <td>[3, 3, 3, 3, 3, 3, 1, 1, 1, 1, 1, 1, 1, 1, 1, ...</td>\n",
       "      <td>22</td>\n",
       "    </tr>\n",
       "    <tr>\n",
       "      <th>1</th>\n",
       "      <td>54610</td>\n",
       "      <td>209281</td>\n",
       "      <td>metavision</td>\n",
       "      <td>MICU</td>\n",
       "      <td>MICU</td>\n",
       "      <td>50</td>\n",
       "      <td>50</td>\n",
       "      <td>2150-04-17 15:35:42</td>\n",
       "      <td>2150-04-19 14:12:52</td>\n",
       "      <td>1.9425</td>\n",
       "      <td>...</td>\n",
       "      <td>[53100, 2851, 07054, 5715, 45621, 53789, 4019,...</td>\n",
       "      <td>2150-04-18 03:35:42</td>\n",
       "      <td>2150-04-18 15:35:42</td>\n",
       "      <td>100003</td>\n",
       "      <td>[Anion Gap, Blue Top Hold, CK-MB Index, Creati...</td>\n",
       "      <td>[125, 125, 125, 125, 125, 125, 125, 125, 125, ...</td>\n",
       "      <td>[10.0,  , 4.9, 1.2, 1.9, 3.8, 5.0, 6.7, 60.5, ...</td>\n",
       "      <td>[mEq/L,  , %, mg/dL, mg/dL, mg/dL, mEq/L, %, %...</td>\n",
       "      <td>[5, 5, 5, 5, 5, 5, 5, 5, 5, 5, 5, 5, 5, 5, 5, ...</td>\n",
       "      <td>48</td>\n",
       "    </tr>\n",
       "    <tr>\n",
       "      <th>2</th>\n",
       "      <td>9895</td>\n",
       "      <td>291788</td>\n",
       "      <td>carevue</td>\n",
       "      <td>MICU</td>\n",
       "      <td>MICU</td>\n",
       "      <td>15</td>\n",
       "      <td>15</td>\n",
       "      <td>2108-04-06 15:50:15</td>\n",
       "      <td>2108-04-11 15:18:03</td>\n",
       "      <td>4.9776</td>\n",
       "      <td>...</td>\n",
       "      <td>[49320, 51881, 486, 20300, 2761, 7850, 3090, V...</td>\n",
       "      <td>2108-04-07 03:50:15</td>\n",
       "      <td>2108-04-07 15:50:15</td>\n",
       "      <td>100006</td>\n",
       "      <td>[pO2, pH, pCO2, Calculated Total CO2, Base Exc...</td>\n",
       "      <td>[241, 241, 241, 241, 241, 241, 397, 397, 397, ...</td>\n",
       "      <td>[189.0, 7.34, 48.0, 27.0, 0.0,  ,  , 0.0, 69.0...</td>\n",
       "      <td>[mm Hg, units, mm Hg, mEq/L, mEq/L,  ,  , mEq/...</td>\n",
       "      <td>[0, 0, 0, 0, 0, 0, 2, 2, 2, 2, 2, 2, 1, 1, 1, ...</td>\n",
       "      <td>16</td>\n",
       "    </tr>\n",
       "    <tr>\n",
       "      <th>3</th>\n",
       "      <td>533</td>\n",
       "      <td>253656</td>\n",
       "      <td>metavision</td>\n",
       "      <td>CSRU</td>\n",
       "      <td>CSRU</td>\n",
       "      <td>15</td>\n",
       "      <td>15</td>\n",
       "      <td>2162-05-17 10:18:31</td>\n",
       "      <td>2162-05-19 22:05:14</td>\n",
       "      <td>2.4908</td>\n",
       "      <td>...</td>\n",
       "      <td>[41401, 99604, 4142, 25000, 27800, V8535, 4148...</td>\n",
       "      <td>2162-05-17 22:18:31</td>\n",
       "      <td>2162-05-18 10:18:31</td>\n",
       "      <td>100009</td>\n",
       "      <td>[Sodium, Whole Blood, Potassium, Whole Blood, ...</td>\n",
       "      <td>[120, 120, 120, 120, 120, 120, 120, 120, 120, ...</td>\n",
       "      <td>[139.0, 4.2, 7.4, 44.0, 14.6, 44.0, 1.26, 103....</td>\n",
       "      <td>[mEq/L, mEq/L, units, mm Hg, g/dL, %, mmol/L, ...</td>\n",
       "      <td>[8, 8, 8, 8, 8, 8, 8, 8, 8, 8, 8, 2, 2, 2, 2, ...</td>\n",
       "      <td>83</td>\n",
       "    </tr>\n",
       "    <tr>\n",
       "      <th>4</th>\n",
       "      <td>55853</td>\n",
       "      <td>271147</td>\n",
       "      <td>metavision</td>\n",
       "      <td>SICU</td>\n",
       "      <td>SICU</td>\n",
       "      <td>33</td>\n",
       "      <td>33</td>\n",
       "      <td>2109-12-10 21:58:01</td>\n",
       "      <td>2109-12-12 12:13:20</td>\n",
       "      <td>1.5940</td>\n",
       "      <td>...</td>\n",
       "      <td>[1890, 1961, 1987, 1976, 27652]</td>\n",
       "      <td>2109-12-11 09:58:01</td>\n",
       "      <td>2109-12-11 21:58:01</td>\n",
       "      <td>100010</td>\n",
       "      <td>[Ketorolac, Heparin, Epidural Bag, Phenylephri...</td>\n",
       "      <td>[121, 121, 121, 121, 121, 121, 121, 121, 121, ...</td>\n",
       "      <td>[15, 5000, 1, 60, 25, 12.5, 0.25, 250, 250, 50...</td>\n",
       "      <td>[mg, UNIT, BAG, mg, mcg, mg, mg, mL, mL, mL, m...</td>\n",
       "      <td>[0, 0, 0, 0, 0, 0, 0, 0, 0, 0, 0, 0, 1, 1, 1, ...</td>\n",
       "      <td>23</td>\n",
       "    </tr>\n",
       "  </tbody>\n",
       "</table>\n",
       "<p>5 rows × 31 columns</p>\n",
       "</div>"
      ],
      "text/plain": [
       "   SUBJECT_ID  ICUSTAY_ID    DBSOURCE FIRST_CAREUNIT LAST_CAREUNIT  \\\n",
       "0       58526      275225  metavision           MICU          MICU   \n",
       "1       54610      209281  metavision           MICU          MICU   \n",
       "2        9895      291788     carevue           MICU          MICU   \n",
       "3         533      253656  metavision           CSRU          CSRU   \n",
       "4       55853      271147  metavision           SICU          SICU   \n",
       "\n",
       "   FIRST_WARDID  LAST_WARDID              INTIME             OUTTIME     LOS  \\\n",
       "0            52           52 2117-09-11 11:47:35 2117-09-15 17:57:14  4.2567   \n",
       "1            50           50 2150-04-17 15:35:42 2150-04-19 14:12:52  1.9425   \n",
       "2            15           15 2108-04-06 15:50:15 2108-04-11 15:18:03  4.9776   \n",
       "3            15           15 2162-05-17 10:18:31 2162-05-19 22:05:14  2.4908   \n",
       "4            33           33 2109-12-10 21:58:01 2109-12-12 12:13:20  1.5940   \n",
       "\n",
       "   ...                                          ICD9_CODE             12h_obs  \\\n",
       "0  ...  [25013, 3371, 5849, 5780, V5867, 25063, 5363, ... 2117-09-11 23:47:35   \n",
       "1  ...  [53100, 2851, 07054, 5715, 45621, 53789, 4019,... 2150-04-18 03:35:42   \n",
       "2  ...  [49320, 51881, 486, 20300, 2761, 7850, 3090, V... 2108-04-07 03:50:15   \n",
       "3  ...  [41401, 99604, 4142, 25000, 27800, V8535, 4148... 2162-05-17 22:18:31   \n",
       "4  ...                    [1890, 1961, 1987, 1976, 27652] 2109-12-11 09:58:01   \n",
       "\n",
       "              24h_obs      ID  \\\n",
       "0 2117-09-12 11:47:35  100001   \n",
       "1 2150-04-18 15:35:42  100003   \n",
       "2 2108-04-07 15:50:15  100006   \n",
       "3 2162-05-18 10:18:31  100009   \n",
       "4 2109-12-11 21:58:01  100010   \n",
       "\n",
       "                                           code_name  \\\n",
       "0  [Sodium, Potassium, Phosphate, Calcium, Total,...   \n",
       "1  [Anion Gap, Blue Top Hold, CK-MB Index, Creati...   \n",
       "2  [pO2, pH, pCO2, Calculated Total CO2, Base Exc...   \n",
       "3  [Sodium, Whole Blood, Potassium, Whole Blood, ...   \n",
       "4  [Ketorolac, Heparin, Epidural Bag, Phenylephri...   \n",
       "\n",
       "                                         code_offset  \\\n",
       "0  [182, 182, 182, 182, 182, 182, 403, 403, 403, ...   \n",
       "1  [125, 125, 125, 125, 125, 125, 125, 125, 125, ...   \n",
       "2  [241, 241, 241, 241, 241, 241, 397, 397, 397, ...   \n",
       "3  [120, 120, 120, 120, 120, 120, 120, 120, 120, ...   \n",
       "4  [121, 121, 121, 121, 121, 121, 121, 121, 121, ...   \n",
       "\n",
       "                                               value  \\\n",
       "0  [143.0, 4.2, 3.4, 8.7, 20.0, 1.9, 16.0, 9.0, 2...   \n",
       "1  [10.0,  , 4.9, 1.2, 1.9, 3.8, 5.0, 6.7, 60.5, ...   \n",
       "2  [189.0, 7.34, 48.0, 27.0, 0.0,  ,  , 0.0, 69.0...   \n",
       "3  [139.0, 4.2, 7.4, 44.0, 14.6, 44.0, 1.26, 103....   \n",
       "4  [15, 5000, 1, 60, 25, 12.5, 0.25, 250, 250, 50...   \n",
       "\n",
       "                                                 uom  \\\n",
       "0  [mEq/L, mEq/L, mg/dL, mg/dL, mEq/L, mg/dL, mEq...   \n",
       "1  [mEq/L,  , %, mg/dL, mg/dL, mg/dL, mEq/L, %, %...   \n",
       "2  [mm Hg, units, mm Hg, mEq/L, mEq/L,  ,  , mEq/...   \n",
       "3  [mEq/L, mEq/L, units, mm Hg, g/dL, %, mmol/L, ...   \n",
       "4  [mg, UNIT, BAG, mg, mcg, mg, mg, mL, mL, mL, m...   \n",
       "\n",
       "                                          code_order  seq_len  \n",
       "0  [3, 3, 3, 3, 3, 3, 1, 1, 1, 1, 1, 1, 1, 1, 1, ...       22  \n",
       "1  [5, 5, 5, 5, 5, 5, 5, 5, 5, 5, 5, 5, 5, 5, 5, ...       48  \n",
       "2  [0, 0, 0, 0, 0, 0, 2, 2, 2, 2, 2, 2, 1, 1, 1, ...       16  \n",
       "3  [8, 8, 8, 8, 8, 8, 8, 8, 8, 8, 8, 2, 2, 2, 2, ...       83  \n",
       "4  [0, 0, 0, 0, 0, 0, 0, 0, 0, 0, 0, 0, 1, 1, 1, ...       23  \n",
       "\n",
       "[5 rows x 31 columns]"
      ]
     },
     "execution_count": 4,
     "metadata": {},
     "output_type": "execute_result"
    }
   ],
   "source": [
    "mimic.head()"
   ]
  },
  {
   "cell_type": "markdown",
   "metadata": {},
   "source": [
    "How are the three dataframes related?"
   ]
  },
  {
   "cell_type": "code",
   "execution_count": 5,
   "metadata": {},
   "outputs": [
    {
     "data": {
      "text/plain": [
       "Index(['patienthealthsystemstayid', 'gender', 'age', 'ethnicity', 'hospitalid',\n",
       "       'wardid', 'apacheadmissiondx', 'admissionheight', 'hospitaladmittime24',\n",
       "       'hospitaladmitoffset', 'hospitaladmitsource', 'hospitaldischargeyear',\n",
       "       'hospitaldischargetime24', 'hospitaldischargeoffset',\n",
       "       'hospitaldischargelocation', 'hospitaldischargestatus', 'unittype',\n",
       "       'unitadmittime24', 'unitadmitsource', 'unitvisitnumber', 'unitstaytype',\n",
       "       'admissionweight', 'dischargeweight', 'unitdischargetime24',\n",
       "       'unitdischargeoffset', 'unitdischargelocation', 'unitdischargestatus',\n",
       "       'uniquepid', 'readmission', 'mortality', 'losday', 'los_3day',\n",
       "       'los_7day', 'diagnosisstring', 'ID', 'code_name', 'code_offset',\n",
       "       'value', 'uom', 'code_order', 'seq_len'],\n",
       "      dtype='object')"
      ]
     },
     "execution_count": 5,
     "metadata": {},
     "output_type": "execute_result"
    }
   ],
   "source": [
    "eicu.columns"
   ]
  },
  {
   "cell_type": "code",
   "execution_count": 6,
   "metadata": {},
   "outputs": [
    {
     "data": {
      "text/plain": [
       "Index(['SUBJECT_ID', 'ICUSTAY_ID', 'DBSOURCE', 'FIRST_CAREUNIT',\n",
       "       'LAST_CAREUNIT', 'FIRST_WARDID', 'LAST_WARDID', 'INTIME', 'OUTTIME',\n",
       "       'LOS', 'GENDER', 'DOB', 'DOD', 'DOD_HOSP', 'DOD_SSN', 'EXPIRE_FLAG',\n",
       "       'age', 'readmission', 'mortality', 'los_3day', 'los_7day', 'ICD9_CODE',\n",
       "       '12h_obs', '24h_obs', 'ID', 'code_name', 'code_offset', 'value', 'uom',\n",
       "       'code_order', 'seq_len'],\n",
       "      dtype='object')"
      ]
     },
     "execution_count": 6,
     "metadata": {},
     "output_type": "execute_result"
    }
   ],
   "source": [
    "mimic.columns"
   ]
  },
  {
   "cell_type": "code",
   "execution_count": 7,
   "metadata": {},
   "outputs": [
    {
     "data": {
      "text/plain": [
       "Index(['SUBJECT_ID', 'ICUSTAY_ID', 'DBSOURCE', 'FIRST_CAREUNIT',\n",
       "       'LAST_CAREUNIT', 'FIRST_WARDID', 'LAST_WARDID', 'INTIME', 'OUTTIME',\n",
       "       'LOS', 'GENDER', 'DOB', 'DOD', 'DOD_HOSP', 'DOD_SSN', 'EXPIRE_FLAG',\n",
       "       'age', 'readmission', 'mortality', 'los_3day', 'los_7day', 'ICD9_CODE',\n",
       "       '12h_obs', '24h_obs', 'ID', 'code_name', 'code_offset', 'value', 'uom',\n",
       "       'code_order', 'seq_len', 'patienthealthsystemstayid', 'gender',\n",
       "       'ethnicity', 'hospitalid', 'wardid', 'apacheadmissiondx',\n",
       "       'admissionheight', 'hospitaladmittime24', 'hospitaladmitoffset',\n",
       "       'hospitaladmitsource', 'hospitaldischargeyear',\n",
       "       'hospitaldischargetime24', 'hospitaldischargeoffset',\n",
       "       'hospitaldischargelocation', 'hospitaldischargestatus', 'unittype',\n",
       "       'unitadmittime24', 'unitadmitsource', 'unitvisitnumber', 'unitstaytype',\n",
       "       'admissionweight', 'dischargeweight', 'unitdischargetime24',\n",
       "       'unitdischargeoffset', 'unitdischargelocation', 'unitdischargestatus',\n",
       "       'uniquepid', 'losday', 'diagnosisstring'],\n",
       "      dtype='object')"
      ]
     },
     "execution_count": 7,
     "metadata": {},
     "output_type": "execute_result"
    }
   ],
   "source": [
    "pooled.columns"
   ]
  },
  {
   "cell_type": "code",
   "execution_count": 8,
   "metadata": {},
   "outputs": [
    {
     "data": {
      "text/plain": [
       "0    [cardiovascular|chest pain / ASHD|coronary art...\n",
       "1                                                  NaN\n",
       "2    [infectious diseases|skin, bone and joint infe...\n",
       "3          [cardiovascular|shock / hypotension|sepsis]\n",
       "4                                                  NaN\n",
       "5                                                  NaN\n",
       "6                                                  NaN\n",
       "7                                                  NaN\n",
       "8    [gastrointestinal|GI bleeding / PUD|upper GI b...\n",
       "9                                                  NaN\n",
       "Name: diagnosisstring, dtype: object"
      ]
     },
     "execution_count": 8,
     "metadata": {},
     "output_type": "execute_result"
    }
   ],
   "source": [
    "# Check diagnosis text or clinical notes in the data\n",
    "eicu['diagnosisstring'].head(10)\n"
   ]
  },
  {
   "cell_type": "code",
   "execution_count": 9,
   "metadata": {},
   "outputs": [
    {
     "data": {
      "text/plain": [
       "['cardiovascular|chest pain / ASHD|coronary artery disease|known',\n",
       " 'cardiovascular|ventricular disorders|cardiomyopathy',\n",
       " 'pulmonary|disorders of the airways|COPD',\n",
       " 'pulmonary|disorders of the airways|COPD',\n",
       " 'cardiovascular|ventricular disorders|congestive heart failure',\n",
       " 'cardiovascular|arrhythmias|atrial fibrillation|with hemodynamic compromise',\n",
       " 'renal|disorder of kidney|chronic kidney disease',\n",
       " 'cardiovascular|chest pain / ASHD|coronary artery disease|known',\n",
       " 'cardiovascular|ventricular disorders|congestive heart failure',\n",
       " 'cardiovascular|ventricular disorders|cardiomyopathy',\n",
       " 'renal|disorder of kidney|chronic kidney disease',\n",
       " 'cardiovascular|arrhythmias|atrial fibrillation|with hemodynamic compromise']"
      ]
     },
     "execution_count": 9,
     "metadata": {},
     "output_type": "execute_result"
    }
   ],
   "source": [
    "eicu['diagnosisstring'][0]"
   ]
  },
  {
   "cell_type": "code",
   "execution_count": 10,
   "metadata": {},
   "outputs": [
    {
     "data": {
      "text/plain": [
       "0.04136526817767776"
      ]
     },
     "execution_count": 10,
     "metadata": {},
     "output_type": "execute_result"
    }
   ],
   "source": [
    "# Check proportion of missing values in diagnosis string\n",
    "eicu['diagnosisstring'].isna().sum() / len(eicu['diagnosisstring'])"
   ]
  },
  {
   "cell_type": "code",
   "execution_count": 11,
   "metadata": {},
   "outputs": [
    {
     "data": {
      "text/plain": [
       "(149304, 43193, 192497)"
      ]
     },
     "execution_count": 11,
     "metadata": {},
     "output_type": "execute_result"
    }
   ],
   "source": [
    "# lenghts of datasets\n",
    "len(eicu), len(mimic), len(pooled)"
   ]
  },
  {
   "cell_type": "code",
   "execution_count": 12,
   "metadata": {},
   "outputs": [
    {
     "data": {
      "text/plain": [
       "True"
      ]
     },
     "execution_count": 12,
     "metadata": {},
     "output_type": "execute_result"
    }
   ],
   "source": [
    "len(eicu)+len(mimic)==len(pooled)"
   ]
  },
  {
   "cell_type": "markdown",
   "metadata": {},
   "source": [
    "Let's explore the five predictions tasks and find the columns associated with each task. The tasks are as follows:\n",
    "Dx, Mortality, LOS > 3, LOS > 7, and Readmission. "
   ]
  },
  {
   "cell_type": "code",
   "execution_count": 18,
   "metadata": {},
   "outputs": [
    {
     "data": {
      "text/html": [
       "<div>\n",
       "<style scoped>\n",
       "    .dataframe tbody tr th:only-of-type {\n",
       "        vertical-align: middle;\n",
       "    }\n",
       "\n",
       "    .dataframe tbody tr th {\n",
       "        vertical-align: top;\n",
       "    }\n",
       "\n",
       "    .dataframe thead th {\n",
       "        text-align: right;\n",
       "    }\n",
       "</style>\n",
       "<table border=\"1\" class=\"dataframe\">\n",
       "  <thead>\n",
       "    <tr style=\"text-align: right;\">\n",
       "      <th></th>\n",
       "      <th>mortality</th>\n",
       "      <th>los_3day</th>\n",
       "      <th>los_7day</th>\n",
       "      <th>readmission</th>\n",
       "    </tr>\n",
       "  </thead>\n",
       "  <tbody>\n",
       "    <tr>\n",
       "      <th>0</th>\n",
       "      <td>1</td>\n",
       "      <td>0</td>\n",
       "      <td>0</td>\n",
       "      <td>0</td>\n",
       "    </tr>\n",
       "    <tr>\n",
       "      <th>1</th>\n",
       "      <td>0</td>\n",
       "      <td>1</td>\n",
       "      <td>0</td>\n",
       "      <td>0</td>\n",
       "    </tr>\n",
       "    <tr>\n",
       "      <th>2</th>\n",
       "      <td>0</td>\n",
       "      <td>0</td>\n",
       "      <td>0</td>\n",
       "      <td>0</td>\n",
       "    </tr>\n",
       "    <tr>\n",
       "      <th>3</th>\n",
       "      <td>0</td>\n",
       "      <td>0</td>\n",
       "      <td>0</td>\n",
       "      <td>0</td>\n",
       "    </tr>\n",
       "    <tr>\n",
       "      <th>4</th>\n",
       "      <td>0</td>\n",
       "      <td>1</td>\n",
       "      <td>1</td>\n",
       "      <td>0</td>\n",
       "    </tr>\n",
       "    <tr>\n",
       "      <th>...</th>\n",
       "      <td>...</td>\n",
       "      <td>...</td>\n",
       "      <td>...</td>\n",
       "      <td>...</td>\n",
       "    </tr>\n",
       "    <tr>\n",
       "      <th>149299</th>\n",
       "      <td>1</td>\n",
       "      <td>1</td>\n",
       "      <td>1</td>\n",
       "      <td>0</td>\n",
       "    </tr>\n",
       "    <tr>\n",
       "      <th>149300</th>\n",
       "      <td>0</td>\n",
       "      <td>0</td>\n",
       "      <td>0</td>\n",
       "      <td>0</td>\n",
       "    </tr>\n",
       "    <tr>\n",
       "      <th>149301</th>\n",
       "      <td>0</td>\n",
       "      <td>0</td>\n",
       "      <td>0</td>\n",
       "      <td>0</td>\n",
       "    </tr>\n",
       "    <tr>\n",
       "      <th>149302</th>\n",
       "      <td>0</td>\n",
       "      <td>1</td>\n",
       "      <td>1</td>\n",
       "      <td>0</td>\n",
       "    </tr>\n",
       "    <tr>\n",
       "      <th>149303</th>\n",
       "      <td>0</td>\n",
       "      <td>0</td>\n",
       "      <td>0</td>\n",
       "      <td>0</td>\n",
       "    </tr>\n",
       "  </tbody>\n",
       "</table>\n",
       "<p>149304 rows × 4 columns</p>\n",
       "</div>"
      ],
      "text/plain": [
       "        mortality  los_3day  los_7day  readmission\n",
       "0               1         0         0            0\n",
       "1               0         1         0            0\n",
       "2               0         0         0            0\n",
       "3               0         0         0            0\n",
       "4               0         1         1            0\n",
       "...           ...       ...       ...          ...\n",
       "149299          1         1         1            0\n",
       "149300          0         0         0            0\n",
       "149301          0         0         0            0\n",
       "149302          0         1         1            0\n",
       "149303          0         0         0            0\n",
       "\n",
       "[149304 rows x 4 columns]"
      ]
     },
     "execution_count": 18,
     "metadata": {},
     "output_type": "execute_result"
    }
   ],
   "source": [
    "eicu[[\"mortality\", \"los_3day\", \"los_7day\", \"readmission\"]]\n",
    "\n"
   ]
  },
  {
   "cell_type": "code",
   "execution_count": 22,
   "metadata": {},
   "outputs": [
    {
     "data": {
      "text/plain": [
       "Index(['SUBJECT_ID', 'ICUSTAY_ID', 'DBSOURCE', 'FIRST_CAREUNIT',\n",
       "       'LAST_CAREUNIT', 'FIRST_WARDID', 'LAST_WARDID', 'INTIME', 'OUTTIME',\n",
       "       'LOS', 'GENDER', 'DOB', 'DOD', 'DOD_HOSP', 'DOD_SSN', 'EXPIRE_FLAG',\n",
       "       'age', 'readmission', 'mortality', 'los_3day', 'los_7day', 'ICD9_CODE',\n",
       "       '12h_obs', '24h_obs', 'ID', 'code_name', 'code_offset', 'value', 'uom',\n",
       "       'code_order', 'seq_len'],\n",
       "      dtype='object')"
      ]
     },
     "execution_count": 22,
     "metadata": {},
     "output_type": "execute_result"
    }
   ],
   "source": [
    "mimic.columns"
   ]
  },
  {
   "cell_type": "code",
   "execution_count": 31,
   "metadata": {},
   "outputs": [
    {
     "data": {
      "text/plain": [
       "Index(['SUBJECT_ID', 'ICUSTAY_ID', 'DBSOURCE', 'FIRST_CAREUNIT',\n",
       "       'LAST_CAREUNIT', 'FIRST_WARDID', 'LAST_WARDID', 'INTIME', 'OUTTIME',\n",
       "       'LOS', 'GENDER', 'DOB', 'DOD', 'DOD_HOSP', 'DOD_SSN', 'EXPIRE_FLAG',\n",
       "       'age', 'readmission', 'mortality', 'los_3day', 'los_7day', 'ICD9_CODE',\n",
       "       '12h_obs', '24h_obs', 'ID', 'code_name', 'code_offset', 'value', 'uom',\n",
       "       'code_order', 'seq_len', 'patienthealthsystemstayid', 'gender',\n",
       "       'ethnicity', 'hospitalid', 'wardid', 'apacheadmissiondx',\n",
       "       'admissionheight', 'hospitaladmittime24', 'hospitaladmitoffset',\n",
       "       'hospitaladmitsource', 'hospitaldischargeyear',\n",
       "       'hospitaldischargetime24', 'hospitaldischargeoffset',\n",
       "       'hospitaldischargelocation', 'hospitaldischargestatus', 'unittype',\n",
       "       'unitadmittime24', 'unitadmitsource', 'unitvisitnumber', 'unitstaytype',\n",
       "       'admissionweight', 'dischargeweight', 'unitdischargetime24',\n",
       "       'unitdischargeoffset', 'unitdischargelocation', 'unitdischargestatus',\n",
       "       'uniquepid', 'losday', 'diagnosisstring'],\n",
       "      dtype='object')"
      ]
     },
     "execution_count": 31,
     "metadata": {},
     "output_type": "execute_result"
    }
   ],
   "source": [
    "pooled.columns"
   ]
  },
  {
   "cell_type": "code",
   "execution_count": 21,
   "metadata": {},
   "outputs": [
    {
     "data": {
      "text/html": [
       "<div>\n",
       "<style scoped>\n",
       "    .dataframe tbody tr th:only-of-type {\n",
       "        vertical-align: middle;\n",
       "    }\n",
       "\n",
       "    .dataframe tbody tr th {\n",
       "        vertical-align: top;\n",
       "    }\n",
       "\n",
       "    .dataframe thead th {\n",
       "        text-align: right;\n",
       "    }\n",
       "</style>\n",
       "<table border=\"1\" class=\"dataframe\">\n",
       "  <thead>\n",
       "    <tr style=\"text-align: right;\">\n",
       "      <th></th>\n",
       "      <th>mortality</th>\n",
       "      <th>los_3day</th>\n",
       "      <th>los_7day</th>\n",
       "      <th>readmission</th>\n",
       "    </tr>\n",
       "  </thead>\n",
       "  <tbody>\n",
       "    <tr>\n",
       "      <th>0</th>\n",
       "      <td>0</td>\n",
       "      <td>1</td>\n",
       "      <td>0</td>\n",
       "      <td>0</td>\n",
       "    </tr>\n",
       "    <tr>\n",
       "      <th>1</th>\n",
       "      <td>0</td>\n",
       "      <td>0</td>\n",
       "      <td>0</td>\n",
       "      <td>0</td>\n",
       "    </tr>\n",
       "    <tr>\n",
       "      <th>2</th>\n",
       "      <td>0</td>\n",
       "      <td>1</td>\n",
       "      <td>0</td>\n",
       "      <td>0</td>\n",
       "    </tr>\n",
       "    <tr>\n",
       "      <th>3</th>\n",
       "      <td>0</td>\n",
       "      <td>0</td>\n",
       "      <td>0</td>\n",
       "      <td>0</td>\n",
       "    </tr>\n",
       "    <tr>\n",
       "      <th>4</th>\n",
       "      <td>0</td>\n",
       "      <td>0</td>\n",
       "      <td>0</td>\n",
       "      <td>0</td>\n",
       "    </tr>\n",
       "    <tr>\n",
       "      <th>...</th>\n",
       "      <td>...</td>\n",
       "      <td>...</td>\n",
       "      <td>...</td>\n",
       "      <td>...</td>\n",
       "    </tr>\n",
       "    <tr>\n",
       "      <th>43188</th>\n",
       "      <td>0</td>\n",
       "      <td>1</td>\n",
       "      <td>1</td>\n",
       "      <td>0</td>\n",
       "    </tr>\n",
       "    <tr>\n",
       "      <th>43189</th>\n",
       "      <td>0</td>\n",
       "      <td>1</td>\n",
       "      <td>0</td>\n",
       "      <td>0</td>\n",
       "    </tr>\n",
       "    <tr>\n",
       "      <th>43190</th>\n",
       "      <td>0</td>\n",
       "      <td>0</td>\n",
       "      <td>0</td>\n",
       "      <td>0</td>\n",
       "    </tr>\n",
       "    <tr>\n",
       "      <th>43191</th>\n",
       "      <td>0</td>\n",
       "      <td>0</td>\n",
       "      <td>0</td>\n",
       "      <td>0</td>\n",
       "    </tr>\n",
       "    <tr>\n",
       "      <th>43192</th>\n",
       "      <td>0</td>\n",
       "      <td>1</td>\n",
       "      <td>0</td>\n",
       "      <td>0</td>\n",
       "    </tr>\n",
       "  </tbody>\n",
       "</table>\n",
       "<p>43193 rows × 4 columns</p>\n",
       "</div>"
      ],
      "text/plain": [
       "       mortality  los_3day  los_7day  readmission\n",
       "0              0         1         0            0\n",
       "1              0         0         0            0\n",
       "2              0         1         0            0\n",
       "3              0         0         0            0\n",
       "4              0         0         0            0\n",
       "...          ...       ...       ...          ...\n",
       "43188          0         1         1            0\n",
       "43189          0         1         0            0\n",
       "43190          0         0         0            0\n",
       "43191          0         0         0            0\n",
       "43192          0         1         0            0\n",
       "\n",
       "[43193 rows x 4 columns]"
      ]
     },
     "execution_count": 21,
     "metadata": {},
     "output_type": "execute_result"
    }
   ],
   "source": [
    "mimic[[\"mortality\", \"los_3day\", \"los_7day\", \"readmission\"]]"
   ]
  },
  {
   "cell_type": "code",
   "execution_count": 37,
   "metadata": {},
   "outputs": [
    {
     "data": {
      "text/plain": [
       "0        [25013, 3371, 5849, 5780, V5867, 25063, 5363, ...\n",
       "1        [53100, 2851, 07054, 5715, 45621, 53789, 4019,...\n",
       "2        [49320, 51881, 486, 20300, 2761, 7850, 3090, V...\n",
       "3        [41401, 99604, 4142, 25000, 27800, V8535, 4148...\n",
       "4                          [1890, 1961, 1987, 1976, 27652]\n",
       "                               ...                        \n",
       "43188    [41031, 42821, 42731, 4271, 5180, 4240, 2760, ...\n",
       "43189    [486, 4280, 51881, 3970, 496, 4169, 585, 42732...\n",
       "43190    [4210, 7464, 42971, 30401, 4412, 44284, V1259,...\n",
       "43191    [41401, 9971, 9975, 42731, 78820, 4111, V4582,...\n",
       "43192    [48284, 51881, 5119, 5849, 2761, 78606, 79902,...\n",
       "Name: ICD9_CODE, Length: 43193, dtype: object"
      ]
     },
     "execution_count": 37,
     "metadata": {},
     "output_type": "execute_result"
    }
   ],
   "source": [
    "mimic.ICD9_CODE"
   ]
  },
  {
   "cell_type": "code",
   "execution_count": 36,
   "metadata": {},
   "outputs": [
    {
     "data": {
      "text/plain": [
       "('Rhythm disturbance (atrial, supraventricular)',\n",
       " ['cardiovascular|chest pain / ASHD|coronary artery disease|known',\n",
       "  'cardiovascular|ventricular disorders|cardiomyopathy',\n",
       "  'pulmonary|disorders of the airways|COPD',\n",
       "  'pulmonary|disorders of the airways|COPD',\n",
       "  'cardiovascular|ventricular disorders|congestive heart failure',\n",
       "  'cardiovascular|arrhythmias|atrial fibrillation|with hemodynamic compromise',\n",
       "  'renal|disorder of kidney|chronic kidney disease',\n",
       "  'cardiovascular|chest pain / ASHD|coronary artery disease|known',\n",
       "  'cardiovascular|ventricular disorders|congestive heart failure',\n",
       "  'cardiovascular|ventricular disorders|cardiomyopathy',\n",
       "  'renal|disorder of kidney|chronic kidney disease',\n",
       "  'cardiovascular|arrhythmias|atrial fibrillation|with hemodynamic compromise'])"
      ]
     },
     "execution_count": 36,
     "metadata": {},
     "output_type": "execute_result"
    }
   ],
   "source": [
    "eicu.apacheadmissiondx[0], eicu.diagnosisstring[0]"
   ]
  },
  {
   "cell_type": "code",
   "execution_count": 38,
   "metadata": {},
   "outputs": [
    {
     "data": {
      "text/plain": [
       "(nan, nan)"
      ]
     },
     "execution_count": 38,
     "metadata": {},
     "output_type": "execute_result"
    }
   ],
   "source": [
    "pooled.apacheadmissiondx[0], pooled.diagnosisstring[0]"
   ]
  },
  {
   "cell_type": "code",
   "execution_count": 39,
   "metadata": {},
   "outputs": [
    {
     "data": {
      "text/plain": [
       "['25013',\n",
       " '3371',\n",
       " '5849',\n",
       " '5780',\n",
       " 'V5867',\n",
       " '25063',\n",
       " '5363',\n",
       " '4580',\n",
       " '25043',\n",
       " '40390',\n",
       " '5853',\n",
       " '25053',\n",
       " '36201',\n",
       " '25083',\n",
       " '7078',\n",
       " 'V1351']"
      ]
     },
     "execution_count": 39,
     "metadata": {},
     "output_type": "execute_result"
    }
   ],
   "source": [
    "pooled.ICD9_CODE[0]"
   ]
  },
  {
   "cell_type": "code",
   "execution_count": 41,
   "metadata": {},
   "outputs": [
    {
     "data": {
      "text/plain": [
       "True"
      ]
     },
     "execution_count": 41,
     "metadata": {},
     "output_type": "execute_result"
    }
   ],
   "source": [
    "pooled.ICD9_CODE.isna().sum()==len(eicu) # all missing values are in eicu. The two datasets were concatenated. ICD9_CODE is not available in eicu"
   ]
  },
  {
   "cell_type": "code",
   "execution_count": 43,
   "metadata": {},
   "outputs": [
    {
     "data": {
      "text/plain": [
       "49369"
      ]
     },
     "execution_count": 43,
     "metadata": {},
     "output_type": "execute_result"
    }
   ],
   "source": [
    "pooled.diagnosisstring.isna().sum()"
   ]
  },
  {
   "cell_type": "code",
   "execution_count": null,
   "metadata": {},
   "outputs": [],
   "source": []
  }
 ],
 "metadata": {
  "kernelspec": {
   "display_name": ".venv",
   "language": "python",
   "name": "python3"
  },
  "language_info": {
   "codemirror_mode": {
    "name": "ipython",
    "version": 3
   },
   "file_extension": ".py",
   "mimetype": "text/x-python",
   "name": "python",
   "nbconvert_exporter": "python",
   "pygments_lexer": "ipython3",
   "version": "3.12.2"
  }
 },
 "nbformat": 4,
 "nbformat_minor": 2
}
